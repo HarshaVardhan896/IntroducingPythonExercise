{
 "cells": [
  {
   "cell_type": "markdown",
   "metadata": {},
   "source": [
    "# 有一個長字串，請做出一個方程式，可以每N個字用一個符號分隔，將結果回傳"
   ]
  },
  {
   "cell_type": "code",
   "execution_count": 1,
   "metadata": {
    "collapsed": true
   },
   "outputs": [],
   "source": [
    "def cut_str(word,number,sp):\n",
    "    x = ''\n",
    "    a = ''\n",
    "    counter = 1\n",
    "    for i in word:\n",
    "        x += i\n",
    "        counter += 1\n",
    "        if len(x) == number:\n",
    "            a += x\n",
    "            a += sp\n",
    "            x = ''\n",
    "            counter = 1\n",
    "    return a[:-1:]"
   ]
  },
  {
   "cell_type": "code",
   "execution_count": 2,
   "metadata": {
    "collapsed": false
   },
   "outputs": [
    {
     "data": {
      "text/plain": [
       "'dasda,ssdvs,dvsdv'"
      ]
     },
     "execution_count": 2,
     "metadata": {},
     "output_type": "execute_result"
    }
   ],
   "source": [
    "cut_str('dasdassdvsdvsdvsd',5,',')"
   ]
  },
  {
   "cell_type": "markdown",
   "metadata": {
    "collapsed": true
   },
   "source": [
    "# 計算程式跑的時間"
   ]
  },
  {
   "cell_type": "code",
   "execution_count": 1,
   "metadata": {
    "collapsed": true
   },
   "outputs": [],
   "source": [
    "from datetime import datetime\n",
    "tfl = '%Y-%m-%d %H:%M:%S'\n",
    "def time(func,num):    \n",
    "    now = datetime.now()\n",
    "    print(\"start time:\",now.strftime(tfl))\n",
    "    print(func(num))\n",
    "    now2 = datetime.now()\n",
    "    print(\"end time:\",now2.strftime(tfl))\n",
    "    print(\"pass time:\",now2 - now)"
   ]
  },
  {
   "cell_type": "code",
   "execution_count": 2,
   "metadata": {
    "collapsed": true
   },
   "outputs": [],
   "source": [
    "def add(num):\n",
    "    print(sum(range(num)))"
   ]
  },
  {
   "cell_type": "code",
   "execution_count": 3,
   "metadata": {
    "collapsed": false
   },
   "outputs": [
    {
     "name": "stdout",
     "output_type": "stream",
     "text": [
      "start time: 2016-11-20 23:03:47\n",
      "499500\n",
      "None\n",
      "end time: 2016-11-20 23:03:47\n",
      "pass time: 0:00:00.000214\n"
     ]
    }
   ],
   "source": [
    "time(add,1000)"
   ]
  },
  {
   "cell_type": "code",
   "execution_count": 4,
   "metadata": {
    "collapsed": true
   },
   "outputs": [],
   "source": [
    "#寫一個求範圍內最大質數"
   ]
  },
  {
   "cell_type": "code",
   "execution_count": 5,
   "metadata": {
    "collapsed": false
   },
   "outputs": [],
   "source": [
    "# 判斷質數\n",
    "def Prime(n):\n",
    "    counter =0\n",
    "    for i in range(1,n+1):\n",
    "        if n % i ==0:\n",
    "            counter +=1\n",
    "            if counter >2:\n",
    "                return False\n",
    "                break\n",
    "            elif n ==i:\n",
    "                return True\n",
    "def Prime_v2(n):\n",
    "    counter =0\n",
    "    for i in range(1,n+1):\n",
    "        if n % i ==0:\n",
    "            counter +=1\n",
    "            if counter >2:\n",
    "                return False\n",
    "                break\n",
    "            elif n ==i:\n",
    "                return True"
   ]
  },
  {
   "cell_type": "code",
   "execution_count": 6,
   "metadata": {
    "collapsed": false
   },
   "outputs": [],
   "source": [
    "def max_prime(n):\n",
    "    for i in [x for x in range(n+1)][::-1]:\n",
    "        if Prime(i)== True:\n",
    "            print(\"maximum prime is %d\" % i)\n",
    "            break\n",
    "        else:\n",
    "            pass"
   ]
  },
  {
   "cell_type": "code",
   "execution_count": 7,
   "metadata": {
    "collapsed": false
   },
   "outputs": [
    {
     "name": "stdout",
     "output_type": "stream",
     "text": [
      "start time: 2016-11-20 23:03:51\n",
      "maximum prime is 99999989\n",
      "None\n",
      "end time: 2016-11-20 23:04:43\n",
      "pass time: 0:00:52.191495\n"
     ]
    }
   ],
   "source": [
    "time(max_prime,100000000)"
   ]
  },
  {
   "cell_type": "code",
   "execution_count": 15,
   "metadata": {
    "collapsed": false
   },
   "outputs": [
    {
     "name": "stdout",
     "output_type": "stream",
     "text": [
      "start time: 2016-11-20 23:05:54\n",
      "True\n",
      "end time: 2016-11-20 23:06:13\n",
      "pass time: 0:00:19.159791\n"
     ]
    }
   ],
   "source": [
    "time(Prime,99999989)"
   ]
  },
  {
   "cell_type": "code",
   "execution_count": null,
   "metadata": {
    "collapsed": true
   },
   "outputs": [],
   "source": []
  }
 ],
 "metadata": {
  "kernelspec": {
   "display_name": "Python 3",
   "language": "python",
   "name": "python3"
  },
  "language_info": {
   "codemirror_mode": {
    "name": "ipython",
    "version": 3
   },
   "file_extension": ".py",
   "mimetype": "text/x-python",
   "name": "python",
   "nbconvert_exporter": "python",
   "pygments_lexer": "ipython3",
   "version": "3.5.1"
  }
 },
 "nbformat": 4,
 "nbformat_minor": 0
}
