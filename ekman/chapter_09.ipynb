{
 "cells": [
  {
   "cell_type": "code",
   "execution_count": 1,
   "metadata": {
    "collapsed": true
   },
   "outputs": [],
   "source": [
    "import urllib.request as ur"
   ]
  },
  {
   "cell_type": "code",
   "execution_count": 4,
   "metadata": {
    "collapsed": true
   },
   "outputs": [],
   "source": [
    "url = 'https://tw.movies.yahoo.com/movieinfo_main.html/id=6192'"
   ]
  },
  {
   "cell_type": "code",
   "execution_count": 5,
   "metadata": {
    "collapsed": false
   },
   "outputs": [],
   "source": [
    "conn = ur.urlopen(url)"
   ]
  },
  {
   "cell_type": "code",
   "execution_count": 6,
   "metadata": {
    "collapsed": false
   },
   "outputs": [
    {
     "name": "stdout",
     "output_type": "stream",
     "text": [
      "<http.client.HTTPResponse object at 0x104266c88>\n"
     ]
    }
   ],
   "source": [
    "print(conn)"
   ]
  },
  {
   "cell_type": "code",
   "execution_count": 7,
   "metadata": {
    "collapsed": true
   },
   "outputs": [],
   "source": [
    "date = conn.read()"
   ]
  },
  {
   "cell_type": "code",
   "execution_count": 8,
   "metadata": {
    "collapsed": false
   },
   "outputs": [
    {
     "name": "stdout",
     "output_type": "stream",
     "text": [
      "b'<!doctype html public \"-//w3c//dtd html 4.01//en\" \"http://www.w3.org/tr/html4/strict.dtd\"> \\n<html lang=\"zh-tw\" xmlns:og=\"http://ogp.me/ns#\" xmlns:fb=\"http://www.facebook.com/2008/fbml\">\\n<head>\\n <title>\\xe6\\x9c\\x80\\xe5\\xbe\\x8c\\xe4\\xb8\\x80\\xe5\\xa0\\x82\\xe8\\xaa\\xb2 The Final Lesson - Yahoo\\xe5\\xa5\\x87\\xe6\\x91\\xa9\\xe9\\x9b\\xbb\\xe5\\xbd\\xb1</title><meta name=\"description\" lang=\"zh-Hant-TW\" content=\"\\xe6\\x8f\\x90\\xe4\\xbe\\x9b\\xe6\\x9c\\xac\\xe7\\x89\\x87\\xe5\\x8a\\x87\\xe6\\x83\\x85\\xe4\\xbb\\x8b\\xe7\\xb4\\xb9\\xe3\\x80\\x81\\xe5\\xb0\\x8e\\xe6\\xbc\\x94\\xe3\\x80\\x81\\xe6\\xbc\\x94\\xe5\\x93\\xa1\\xe3\\x80\\x81\\xe7\\xb2\\xbe\\xe5\\xbd\\xa9\\xe5\\x8a\\x87\\xe7\\x85\\xa7\\xe3\\x80\\x81\\xe9\\xa0\\x90\\xe5\\x91\\x8a\\xe7\\x89\\x87\\xe3\\x80\\x81\\xe6\\x9f\\xa5\\xe7\\x9c\\x8b\\xe7\\xb6\\xb2\\xe5\\x8f\\x8b\\xe7\\x9f\\xad\\xe8\\xa9\\x95\\xe3\\x80\\x81\\xe6\\x9c\\x9f\\xe5\\xbe\\x85\\xe5\\xba\\xa6\\xe3\\x80\\x81\\xe6\\xbb\\xbf\\xe6\\x84\\x8f\\xe5\\xba\\xa6\\xe3\\x80\\x81\\xe6\\x9f\\xa5\\xe8\\xa9\\xa2\\xe9\\x9b\\xbb\\xe5\\xbd\\xb1\\xe6\\x99\\x82\\xe5\\x88\\xbb\\xe8\\xa1\\xa8\\xe8\\x88\\x87\\xe7\\xb7\\x9a\\xe4\\xb8\\x8a\\xe8\\xa8\\x82\\xe7\\xa5\\xa8\\xe3\\x80\\x82\" /><meta name=\"keywords\" lang=\"zh-Hant-TW\" content=\"\\xe9\\x9b\\xbb\\xe5\\xbd\\xb1, yahoo\\xe5\\xa5\\x87\\xe6\\x91\\xa9\\xe9\\x9b\\xbb\\xe5\\xbd\\xb1, \\xe6\\x99\\x82\\xe5\\x88\\xbb\\xe8\\xa1\\xa8, \\xe6\\x96\\xb0\\xe7\\x89\\x87, \\xe9\\xa0\\x90\\xe5\\x91\\x8a\\xe7\\x89\\x87, \\xe7\\xb6\\xb2\\xe5\\x8f\\x8b\\xe6\\xbb\\xbf\\xe6\\x84\\x8f\\xe6\\xa6\\x9c, yahoo \\xe9\\x9b\\xbb\\xe5\\xbd\\xb1, \\xe5\\x8a\\x87\\xe7\\x85\\xa7, \\xe7\\xb7\\x9a\\xe4\\xb8\\x8a\\xe8\\xa8\\x82\\xe7\\xa5\\xa8, \\xe7\\xa5\\xa8\\xe6\\x88\\xbf, \\xe5\\x8f\\xb0\\xe5\\x8c\\x97\\xe7\\xa5\\xa8\\xe6\\x88\\xbf, \\xe5\\x85\\xa8\\xe7\\xbe\\x8e\\xe7\\xa5\\xa8\\xe6\\x88\\xbf, \\xe6\\x8e\\x92\\xe8\\xa1\\x8c\\xe6\\xa6\\x9c, \\xe6\\x88\\xb2\\xe9\\x99\\xa2, \\xe5\\xbd\\xb1\\xe5\\x9f\\x8e, \\xe7\\x89\\x87\\xe5\\x90\\x8d, \\xe9\\x9b\\xbb\\xe8\\xa6\\x96, \\xe7\\x86\\xb1\\xe6\\x98\\xa0\\xe4\\xb8\\xad, \\xe6\\x9c\\xac\\xe9\\x80\\xb1\\xe6\\x96\\xb0\\xe7\\x89\\x87, \\xe6\\xb5\\xb7\\xe5\\xa0\\xb1, \\xe6\\xbb\\xbf\\xe6\\x84\\x8f\\xe5\\xba\\xa6, \\xe6\\x9c\\x9f\\xe5\\xbe\\x85\\xe5\\xba\\xa6, \\xe7\\x9f\\xad\\xe8\\xa9\\x95, \\xe7\\xb6\\xb2\\xe5\\x8f\\x8b\\xe7\\x9f\\xad\\xe8\\xa9\\x95, \\xe8\\xa9\\x95\\xe8\\xab\\x96\" /><meta property=\"og:description\" content=\"\\xe6\\x8f\\x90\\xe4\\xbe\\x9b\\xe6\\x9c\\xac\\xe7\\x89\\x87\\xe5\\x8a\\x87\\xe6\\x83\\x85\\xe4\\xbb\\x8b\\xe7\\xb4\\xb9\\xe3\\x80\\x81\\xe5\\xb0\\x8e\\xe6\\xbc\\x94\\xe3\\x80\\x81\\xe6\\xbc\\x94\\xe5\\x93\\xa1\\xe3\\x80\\x81\\xe7\\xb2\\xbe\\xe5\\xbd\\xa9\\xe5\\x8a\\x87\\xe7\\x85\\xa7\\xe3\\x80\\x81\\xe9\\xa0\\x90\\xe5\\x91\\x8a\\xe7\\x89\\x87\\xe3\\x80\\x81\\xe6\\x9f\\xa5\\xe7\\x9c\\x8b\\xe7\\xb6\\xb2\\xe5\\x8f\\x8b\\xe7\\x9f\\xad\\xe8\\xa9\\x95\\xe3\\x80\\x81\\xe6\\x9c\\x9f\\xe5\\xbe\\x85\\xe5\\xba\\xa6\\xe3\\x80\\x81\\xe6\\xbb\\xbf\\xe6\\x84\\x8f\\xe5\\xba\\xa6\\xe3\\x80\\x81\\xe6\\x9f\\xa5\\xe8\\xa9\\xa2\\xe9\\x9b\\xbb\\xe5\\xbd\\xb1\\xe6\\x99\\x82\\xe5\\x88\\xbb\\xe8\\xa1\\xa8\\xe8\\x88\\x87\\xe7\\xb7\\x9a\\xe4\\xb8\\x8a\\xe8\\xa8\\x82\\xe7\\xa5\\xa8\\xe3\\x80\\x82\" /><meta property=\"og:image\" content=\"https://s.yimg.com/vu/movies/fp/mpost/61/92/6192.jpg\" /><meta property=\"og:image:secure_url\" content=\"https://s.yimg.com/vu/movies/fp/mpost2/61/92/6192.jpg\" /><meta property=\"fb:app_id\" content=\"501887343352051\" /><meta property=\"og:site_name\" content=\"Yahoo\\xe5\\xa5\\x87\\xe6\\x91\\xa9\\xe9\\x9b\\xbb\\xe5\\xbd\\xb1\" /><meta property=\"og:title\" content=\"\\xe6\\x9c\\x80\\xe5\\xbe\\x8c\\xe4\\xb8\\x80\\xe5\\xa0\\x82\\xe8\\xaa\\xb2 The Final Lesson - Yahoo\\xe5\\xa5\\x87\\xe6\\x91\\xa9\\xe9\\x9b\\xbb\\xe5\\xbd\\xb1\" /><meta property=\"og:type\" content=\"website\" /><meta property=\"og:url\" content=\"https://tw.movies.yahoo.com/movieinfo_main.html/id=6192\" /><meta http-equiv=\"content-type\" content=\"text/html; charset=utf-8\">\\n<meta name=\"msvalidate.01\" content=\"AEF4DC855815A1129E59BF2ED9F34F0D\" />\\n<meta name=\"google-site-verification\" content=\"AoSiKxZVV9aX6RFurgPqG1kZ1VvLqznI74wJDjSp3fY\" />\\n<!-- change# start -->\\n<link rel=\"stylesheet\" type=\"text/css\" href=\"https://s.yimg.com/f/i/tw/movie/i6/ymv_1_51_min.css\" media=\"screen\" />\\n<link rel=\"stylesheet\" type=\"text/css\" href=\"https://s.yimg.com/f/i/tw/movie/i6/ymv_print.css\" media=\"print\" />\\n<link rel=\"stylesheet\" type=\"text/css\" href=\"https://s.yimg.com/f/i/tw/hp/Universal_header/uh_bt3.css\" />\\n<!--<script type=\"text/javascript\" src=\"https://s.yimg.com/zz/combo?yui-s:3.6.0/yui/yui-min.js\"></script>-->\\n<script src=\"https://yui-s.yahooapis.com/combo?3.6.0/yui/yui-min.js\"></script>\\n<script type=\"text/javascript\" src=\"https://s.yimg.com/f/i/tw/movie/i6/ymv_1_52_min.js?20140228\"></script>\\n<script>\\nYUI({\\n comboBase: \\'https://s.yimg.com/zz/combo?\\',\\n combine: true,\\n root: \\'yui-s:\\' + YUI.version + \\'/\\'\\n}).use(\\'node\\', function(Y) {\\n});\\n</script>\\n<!-- change# end -->\\n \\n</head>\\n <body class=\"movieinfo_main\"> <div id=\"doc\" class=\"yui-t6\">\\n <div id=\"hd\">\\n<!--(begin) inc-universal_header.jake -->\\n<style>\\n#ygma{position:relative;z-index:2;}\\n.schmve{position:absolute;top:56px;left:330px;z-index:200;height:46px}\\n#ygma a,#ygma a:hover,#ygma a:visited{color:#fff;}\\n#ygma #yuhead-bd{padding-bottom:6px;}\\n</style>\\n<div id=\"ygma\" class=\"fix950\">\\n<link type=\\'text/css\\' rel=\\'stylesheet\\' href=\\'https://s.yimg.com/zz/combo?kx/yucs/uh2/uh/295/css/yunivhead-min.css&kx/yucs/uh2/uh/295/css/logo-min.css&kx/ucs/avatar/css/17/avatar-min.css&kx/yucs/uh2/mail-link/85/css/mailcount_v2-min.css&kx/yucs/uh2/mail-link/85/css/mail_preview-min.css&kx/ucs/search/css/190/search_all-min.css&kx/ucs/search/css/190/search_buttons-min.css&kx/yucs/uh2/uh/295/css/yunivhead_https-min.css&kx/yucs/uh_common/meta/3/css/meta-min.css\\' /><style>/* customizable */\\r\\n#yUnivHead .yuhead-bullet-down{background-position:right -119px;}\\r\\n\\r\\n/* font color */\\r\\n#yUnivHead {color:#fff;}\\r\\n#yUnivHead a{color:#fff;}\\r\\n#yUnivHead a:hover{color:#fff;}\\r\\n\\r\\n#yuhead-hd #yuhead-mepanel-cont #yuhead-mepanel li.yuhead-me{border-color:#fff;}\\r\\n#yuhead-hd #yuhead-com-links-cont #yuhead-com-links li.yuhead-com-link-item{border-color:#fff;}\\r\\n.yuhead-logo h2 a{color:#fff;}\\r\\n\\r\\n/* promo color */\\r\\n#yUnivHead #yuhead-promo .yucs-promo-label{color:#fff;}\\r\\n#yUnivHead #yuhead-promo a{color:#fff;}\\r\\n#yUnivHead #yuhead-promo a:hover{color:#fff;}\\r\\n\\r\\n/* background, border, gradients */\\r\\n#yUnivHead {\\r\\n    background:transparent;\\r\\n}\\r\\n/* trending promo background - match to header top background */\\r\\n#yUnivHead .yucs-trending-anim .yucs-trending-anim-fade {\\r\\n\\tbackground:transparent;\\r\\n}\\r\\n/*logos*/\\r\\n#yUnivHead .yuhead-logo h2 {background-position:-350px top;}\\n  #yUnivHead.yucs-en-au .yuhead-logo h2 {background-position:0px -120px;}\\n  #yUnivHead.yucs-en-nz .yuhead-logo h2 {background-position:0px -120px;}\\r\\n#yUnivHead .yuhead-logo h2.small {background-position:0px -360px;}</style><div id=\"yUnivHead\" class=\"yucs-zh-hant-tw\" data-lang=\"zh-hant-tw\" data-property=\"movies\" data-flight=\"1462518541\" data-uhvc=\"/\"> <div id=\"yucs-disclaimer\" class=\"yucs-disclaimer yucs-activate yucs-hide yucs-property-movies yucs-fcb- \" data-cobrand=\"standard\" data-cu = \"0\" data-dsstext=\"\\xe6\\x83\\xb3\\xe8\\xa6\\x81\\xe4\\xba\\xab\\xe5\\x8f\\x97\\xe6\\x9b\\xb4\\xe5\\xa5\\xbd\\xe7\\x9a\\x84\\xe6\\x90\\x9c\\xe5\\xb0\\x8b\\xe9\\xab\\x94\\xe9\\xa9\\x97\\xe5\\x97\\x8e\\xef\\xbc\\x9f {dssLink}\\xe5\\xb0\\x87\\xe6\\x82\\xa8\\xe7\\x9a\\x84\\xe6\\x90\\x9c\\xe5\\xb0\\x8b\\xe8\\xa8\\xad\\xe7\\x82\\xba Yahoo\\xe5\\xa5\\x87\\xe6\\x91\\xa9{linkEnd}\" data-dsstext-mobile=\"\\xe6\\x9b\\xb4\\xe5\\xb0\\x91\\xe7\\x9a\\x84\\xe6\\x90\\x9c\\xe5\\xb0\\x8b\\xe5\\x8b\\x95\\xe4\\xbd\\x9c\\xef\\xbc\\x8c\\xe6\\x9b\\xb4\\xe5\\xa4\\x9a\\xe7\\x9a\\x84\\xe6\\x90\\x9c\\xe5\\xb0\\x8b\\xe7\\xb5\\x90\\xe6\\x9e\\x9c\" data-dsstext-mobile-ok=\"\\xe7\\xa2\\xba\\xe5\\xae\\x9a\" data-dsstext-mobile-set-search=\"\\xe5\\xb0\\x87\\xe6\\x82\\xa8\\xe7\\x9a\\x84\\xe6\\x90\\x9c\\xe5\\xb0\\x8b\\xe8\\xa8\\xad\\xe5\\xae\\x9a\\xe7\\x82\\xba Yahoo\\xe3\\x80\\x82\" data-dssstbtext=\"Yahoo is the preferred search engine for Firefox. Switch now.\" data-dssstb-ok=\"Yes\" data-dssstb-no=\"Not Now\" data-ylt-link=\"https://tw.search.yahoo.com/searchset?pn=\" data-ylt-dssbarclose=\"/\" data-ylt-dssbaropen=\"/\" data-ylt-dssstb-link=\"https://downloads.yahoo.com/sp-firefox\" data-ylt-dssstbbarclose=\"/\" data-ylt-dssstbbaropen=\"/\" data-ylt-dssCookieCleanedSuccess=\"/\" data-ylt-dssCookieCleanedFailed=\"/\" data-linktarget=\"_top\" data-lang=\"zh-hant-tw\" data-property=\"movies\" data-device=\"Desktop\" data-close-txt=\"\\xe9\\x97\\x9c\\xe9\\x96\\x89\\xe6\\xad\\xa4\\xe8\\xa6\\x96\\xe7\\xaa\\x97\" data-maybelater-txt = \"\\xe7\\xa8\\x8d\\xe5\\xbe\\x8c\\xe5\\x86\\x8d\\xe8\\xaa\\xaa\" data-killswitch = \"0\" data-host=\"tw.movies.yahoo.com\" data-spaceid=\"\" data-pn=\"\" data-dss-cookie-cleanup=\"\" data-pn-en-ca-mobile-frontpage=\"\" data-pn-de-de-mobile-frontpage=\"\" data-pn-es-es-mobile-frontpage=\"\" data-pn-fr-fr-mobile-frontpage=\"\" data-pn-en-in-mobile-frontpage=\"\" data-pn-it-it-mobile-frontpage=\"\" data-pn-en-us-mobile-frontpage=\"\" data-pn-en-sg-mobile-frontpage=\"\" data-pn-en-gb-mobile-frontpage=\"\" data-pn-en-us-mobile-mail=\"\" data-pn-en-ca-mobile-mail=\"\" data-pn-de-de-mobile-mail=\"\" data-pn-es-es-mobile-mail=\"\" data-pn-fr-fr-mobile-mail=\"\" data-pn-en-in-mobile-mail=\"\" data-pn-it-it-mobile-mail=\"\" data-pn-en-sg-mobile-mail=\"\" data-pn-en-gb-mobile-mail=\"\" data-pn-pt-br-mobile-mail=\"\" data-pn-en-us-tablet-frontpage=\"\" data-pn-en-us-tablet-mail=\"\" data-pn-en-ca-tablet-mail=\"\" data-pn-de-de-tablet-mail=\"\" data-pn-es-es-tablet-mail=\"\" data-pn-fr-fr-tablet-mail=\"\" data-pn-en-in-tablet-mail=\"\" data-pn-it-it-tablet-mail=\"\" data-pn-en-sg-tablet-mail=\"\" data-pn-en-gb-tablet-mail=\"\" data-pn-pt-br-tablet-mail=\"\" data-news-search-yahoo-com=\"\" data-answers-search-yahoo-com=\"\" data-finance-search-yahoo-com=\"\" data-images-search-yahoo-com=\"\" data-video-search-yahoo-com=\"\" data-sports-search-yahoo-com=\"\" data-shopping-search-yahoo-com=\"\" data-shopping-yahoo-com=\"\" data-us-qa-trunk-news-search-yahoo-com =\"\" data-dss=\"\"></div>    <a href=\"#yuhead-search\" class=\"yucs-skipto-search yucs-activate\">\\xe8\\xb7\\xb3\\xe8\\x87\\xb3\\xe6\\x90\\x9c\\xe5\\xb0\\x8b\\xe6\\xac\\x84\\xe3\\x80\\x82</a>  <div id=\"yuhead-hd\" class=\"yuhead-clearfix\"> <div id=\"yuhead-mepanel-cont\"> <ul id=\"yuhead-mepanel\" class=\"yucs-toolbar yucs-activate\" aria-label=\"\\xe7\\x94\\xa8\\xe6\\x88\\xb6\\xe6\\x9c\\x8d\\xe5\\x8b\\x99\"><li class=\"yuhead-me yuhead-nodivide yuhead-nopad\"> <a class=\"yuhead-signup\" href=\"https://edit.yahoo.com/config/eval_register?.src=mov&.intl=tw&.lang=zh-Hant-TW&.done=https://tw.movies.yahoo.com/movieinfo_main.html/id=6192\" target=\"_top\" rel=\"nofollow\"> <em>\\xe6\\x98\\xaf\\xe6\\x96\\xb0\\xe7\\x94\\xa8\\xe6\\x88\\xb6\\xe5\\x97\\x8e\\xef\\xbc\\x9f</em> \\xe8\\xab\\x8b\\xe8\\xa8\\xbb\\xe5\\x86\\x8a</a></li><li class=\"yuhead-me\"> <a href=\"https://login.yahoo.com/config/login?.src=mov&.intl=tw&.lang=zh-Hant-TW&.done=https://tw.movies.yahoo.com/movieinfo_main.html/id=6192\" target=\"_top\" rel=\"nofollow\"> <em>\\xe7\\x99\\xbb\\xe5\\x85\\xa5</em></a></li><li class=\"yuhead-me\"><a href=\"http://tw.help.cc.yahoo.com/?product=movie\" rel=\"nofollow\" target=\"_top\">\\xe6\\x9c\\x8d\\xe5\\x8b\\x99\\xe8\\xaa\\xaa\\xe6\\x98\\x8e</a></li></ul>   </div> <div id=\"yuhead-promo\"><a href=\"http://tw.yahoo.com/bin/set?cmp=uheader&src=others\" target=\"_top\" rel=\"nofollow\">\\xe8\\xa8\\xad Yahoo \\xe5\\xa5\\x87\\xe6\\x91\\xa9\\xe7\\x82\\xba\\xe9\\xa6\\x96\\xe9\\xa0\\x81<abbr title=\"Yahoo!\"></abbr></a></div> <div id=\"yuhead-com-links-cont\"> <ul id=\"yuhead-com-links\" class=\"yucs-toolbar yucs-activate\" aria-label=\"Yahoo \\xe5\\xa5\\x87\\xe6\\x91\\xa9\\xe6\\x9c\\x8d\\xe5\\x8b\\x99\\xe7\\xb8\\xbd\\xe8\\xa6\\xbd\">  <li class=\"yuhead-com-link-item yucs-mailpreview-ancestor\"> <a class=\"sp yltasis yuhead-ico-mail\" href=\"https://tw.mail.yahoo.com/?.intl=tw&.lang=zh-Hant-TW\" rel=\"nofollow\" target=\"_top\">\\xe4\\xbf\\xa1\\xe7\\xae\\xb1</a><ul class=\"yucs-mail-preview-panel hide\" data-uri-scheme=\"http\" data-uri-path=\"ucs.query.yahoo.com/v1/console/yql\" data-mail-txt=\"\\xe4\\xbf\\xa1\\xe7\\xae\\xb1\" data-mail-view=\"\\xe6\\xaa\\xa2\\xe8\\xa6\\x96\\xe6\\x89\\x80\\xe6\\x9c\\x89 Yahoo \\xe4\\xbf\\xa1\\xe4\\xbb\\xb6\" data-mail-help-txt=\"\\xe6\\x9c\\x8d\\xe5\\x8b\\x99\\xe8\\xaa\\xaa\\xe6\\x98\\x8e\" data-mail-help-url=\"http://help.cc.tw.yahoo.com/help_cp.html?product=29\" data-mail-loading-txt=\"\\xe8\\xbc\\x89\\xe5\\x85\\xa5\\xe4\\xb8\\xad...\" data-languagetag=\"zh-hant-tw\" data-mrd-crumb=\"\" data-authstate=\"signedout\" data-middleauth-signin-text=\"\\xe9\\xbb\\x9e\\xe9\\x81\\xb8\\xe9\\x80\\x99\\xe8\\xa3\\xa1\\xe6\\xaa\\xa2\\xe8\\xa6\\x96\\xe6\\x82\\xa8\\xe7\\x9a\\x84\\xe4\\xbf\\xa1\\xe4\\xbb\\xb6\" data-popup-login-url=\"https://login.yahoo.com/config/login_verify2?.pd=c%3DOIVaOGq62e5hAP8Tv..nr5E3&.src=sc\" data-middleauthtext=\"\\xe4\\xbd\\xa0\\xe6\\x9c\\x89 {count} \\xe5\\xb0\\x81\\xe6\\x96\\xb0\\xe4\\xbf\\xa1\\xe3\\x80\\x82\" data-yltmessage-link=\"http://mrd.mail.yahoo.com/msg?mid={msgID}&fid=Inbox&src=uh&.crumb=\" data-yltviewall-link=\"https://tw.mail.yahoo.com/\" data-yltpanelshown=\"/\"></ul></li><li class=\"yuhead-com-link-item\"> <a href=\"http://tw.bid.yahoo.com/\" rel=\"nofollow\" target=\"_top\"> \\xe6\\x8b\\x8d\\xe8\\xb3\\xa3 </a></li><li id=\"yuhead-com-home\"><a class=\"sp yuhead-ico-home\" href=\"https://tw.yahoo.com/\" rel=\"nofollow\" target=\"_top\">Yahoo \\xe5\\xa5\\x87\\xe6\\x91\\xa9</a></li> </ul> </div> </div> <div id=\"yuhead-bd\" class=\"yuhead-clearfix\"> <div class=\"yuhead-logo\"> <style> .yuhead-logo h2{ width:350px; height:58px; background-image:url(https://s.yimg.com/rz/d/yahoo_movies_zh-Hant-TW_s_f_pw_351x40_movies.png\\n); _background-image:url(https://s.yimg.com/rz/d/yahoo_movies_zh-Hant-TW_s_f_pw_351x40_movies.gif\\n); } .yuhead-logo a{ width:350px; height:58px; } .yuhead-logo div.yuhead-comarketing { width:350px; } .yog-tablet #yUnivHead h2 { background-position: -350px 5px !important; } html[lang=\\'en-AU\\'] .yog-tablet #yUnivHead .yuhead-logo h2 { background-position: -350px 5px !important; } html[lang=\\'en-NZ\\'] .yog-tablet #yUnivHead .yuhead-logo h2 { background-position: -350px 5px !important; } .yog-smartphone #yUnivHead h2 { background-position: -265px 0; background-size: 534px; margin-left: 26%; } .yog-tablet .yuhead-logo h2{ background-repeat: repeat-x; } .yog-tablet.yog-version-v2 #yUnivHead h2 { background-position: center !important; } .yog-tablet #yUnivHead .yuhead-logo h2 { height: 40px !important; } .yog-rtl.yog-smartphone #yUnivHead .yuhead-logo h2 { background-position: -352px 0; !important; background-size: 536px !important; margin-left: 30% !important; } html[lang=\\'ar\\'] .yog-rtl.yog-smartphone #yUnivHead .yuhead-logo h2 { background-position: -386px 0; !important; } .yog-smartphone #yUnivHead h2.yuhead-music { background-position: 0 0 !important; width: 260px !important; } html[lang=\\'en-US\\'] .yog-smartphone #yUnivHead h2 { background-size: auto 21px !important; background-position: -350px 0; } html[lang=\\'pt-BR\\'] .yog-smartphone #yUnivHead h2.yuhead-sports { background-position: -265px 0 !important; background-size: 534px; margin-left: 17%; } html[lang=\\'ar\\'] .yog-smartphone #yUnivHead h2.yuhead-omg { background-position: -383px 0 !important; background-size: 605px; margin-left: 0; width: auto; } html[lang=\\'en-PH\\'] .yog-tablet #yUnivHead .yuhead-logo h2 { height: 47px !important; } html[lang=\\'en-PH\\'] .yog-smartphone #yUnivHead h2 { width: 255px; } </style> <h2 class=\"yuhead-movies yuhead-standard\"> <a href=\"https://tw.movies.yahoo.com/\" target=\"_top\" tabindex=\"-1\"> Yahoo \\xe9\\x9b\\xbb\\xe5\\xbd\\xb1 </a> </h2> <div id=\"yucs-disclaimer-md\" class=\"yucs-disclaimer-md yucs-activate yucs-hide Desktop  yucs-property-movies yucs-fcb-\" data-dsstext=\"\\xe6\\x83\\xb3\\xe8\\xa6\\x81\\xe4\\xba\\xab\\xe5\\x8f\\x97\\xe6\\x9b\\xb4\\xe5\\xa5\\xbd\\xe7\\x9a\\x84\\xe6\\x90\\x9c\\xe5\\xb0\\x8b\\xe9\\xab\\x94\\xe9\\xa9\\x97\\xe5\\x97\\x8e\\xef\\xbc\\x9f {dssLink}\\xe5\\xb0\\x87\\xe6\\x82\\xa8\\xe7\\x9a\\x84\\xe6\\x90\\x9c\\xe5\\xb0\\x8b\\xe8\\xa8\\xad\\xe7\\x82\\xba Yahoo\\xe5\\xa5\\x87\\xe6\\x91\\xa9{linkEnd}\" data-dsstext-mobile=\"\\xe6\\x9b\\xb4\\xe5\\xb0\\x91\\xe7\\x9a\\x84\\xe6\\x90\\x9c\\xe5\\xb0\\x8b\\xe5\\x8b\\x95\\xe4\\xbd\\x9c\\xef\\xbc\\x8c\\xe6\\x9b\\xb4\\xe5\\xa4\\x9a\\xe7\\x9a\\x84\\xe6\\x90\\x9c\\xe5\\xb0\\x8b\\xe7\\xb5\\x90\\xe6\\x9e\\x9c\" data-dsstext-mobile-ok=\"\\xe7\\xa2\\xba\\xe5\\xae\\x9a\" data-dsstext-mobile-set-search=\"\\xe5\\xb0\\x87\\xe6\\x82\\xa8\\xe7\\x9a\\x84\\xe6\\x90\\x9c\\xe5\\xb0\\x8b\\xe8\\xa8\\xad\\xe5\\xae\\x9a\\xe7\\x82\\xba Yahoo\\xe3\\x80\\x82\" data-ylt-link=\"https://tw.search.yahoo.com/searchset?pn=\" data-ylt-dssbarclose=\"/\" data-ylt-dssbaropen=\"/\" data-linktarget=\"_top\" data-lang=\"zh-hant-tw\" data-property=\"movies\" data-device=\"Desktop\" data-close-txt=\"\\xe9\\x97\\x9c\\xe9\\x96\\x89\\xe6\\xad\\xa4\\xe8\\xa6\\x96\\xe7\\xaa\\x97\" data-maybelater-txt = \"\\xe7\\xa8\\x8d\\xe5\\xbe\\x8c\\xe5\\x86\\x8d\\xe8\\xaa\\xaa\" data-killswitch = \"0\" data-dss=\"\"></div><script typ=\"text/javascript\" src=\"https://s.yimg.com/kx/yucs/uh3/disclaimer/274/js/disclaimer_seed-min.js\"></script> </div> <div id=\"yuhead-search\"> <div id=\"yuhead-sform-cont\" class=\"yuhead-s-web yuhead-search-form\"> <form role=\"search\" class=\"yucs-search yucs-activate\" target=\"_top\" action=\"https://tw.search.yahoo.com/search\" method=\"get\"><table role=\"presentation\"> <tbody role=\"presentation\"><tr role=\"presentation\"><td class=\"yucs-form-input\" role=\"presentation\"> <label for=\"yuhead-sform-searchfield\"> <span>\\xe6\\x90\\x9c\\xe5\\xb0\\x8b</span> </label> <input autocomplete=\"off\" type=\"text\" class=\"sp yuhead-ico-mglass yuhead-search-hint yucs-search-field\" name=\"p\" data-sh=\"\\xe6\\x90\\x9c\\xe5\\xb0\\x8b\"  data-gosurl=\"\" id=\"yuhead-sform-searchfield\" data-pubid=\"\" /></td><td NOWRAP class=\"yucs-form-btn\" role=\"presentation\"><div class=\"yucs-btn-wrap\"> <button class=\"yucs-sweb-btn\" type=\"submit\">\\xe7\\xb6\\xb2\\xe9\\xa0\\x81\\xe6\\x90\\x9c\\xe5\\xb0\\x8b</button></div> </td> </tr> </tbody></table><input type=\"hidden\" id=\"fr\" name=\"fr\" value=\"ush-movies\" /></form> </div> </div>  </div>               <!-- meta --><div id=\"yucs-meta\" data-authstate=\"signedout\" data-cobrand=\"standard\" data-crumb=\"\" data-mc-crumb=\"\" data-gta=\"\" data-device=\"desktop\" data-experience=\"\" data-firstname=\"\" data-style=\"\" data-flight=\"1462518541\" data-forcecobrand=\"standard\" data-guid=\"\" data-host=\"tw.movies.yahoo.com\" data-https=\"1\" data-languagetag=\"zh-hant-tw\" data-property=\"movies\" data-protocol=\"https\" data-shortfirstname=\"\" data-shortuserid=\"\" data-status=\"active\" data-spaceid=\"\" data-test_id=\"\" data-userid=\"\" data-stickyheader=\"true\" data-headercollapse=\"\" data-uh-test=\"\" ></div><!-- /meta --></div><script type=\"text/javascript\" charset=\"utf-8\"> YUI().use(\\'node\\',\\'event\\',\\'event-mouseenter\\',\\'substitute\\',\\'oop\\',\\'node-focusmanager\\',\\'node\\',\\'event\\',\\'substitute\\',\\'cookie\\',\\'event-resize\\',\\'node\\', \\'event\\', \\'querystring-stringify\\',\\'node\\',\\'event\\',\\'node\\',\\'event\\',\\'event-custom\\',\\'event-valuechange\\',\\'classnamemanager\\',\\'node\\', function(Y) {});</script><script charset=\\'utf-8\\' type=\\'text/javascript\\' src=\\'https://s.yimg.com/zz/combo?kx/ucs/common/js/140/setup-min.js&kx/ucs/sts/js/442/skip-min.js&kx/yucs/uh2/uh/295/js/timestamp_library-min.js&kx/ucs/menu_utils/js/164/menu_utils_v2-min.js&kx/yucs/uh2/uh/295/js/aria_toolbar-min.js&kx/ucs/username/js/43/user_menu-min.js&kx/ucs/help/js/41/help_menu-min.js&kx/ucs/utility_link/js/20/utility_menu-min.js&kx/yucs/uh2/uh/295/js/logo_debug-min.js&kx/yucs/uh3/disclaimer/388/js/disclaimer_seed-min.js&kx/ucs/common/js/131/jsonp-super-cached-min.js&kx/ucs/avatar/js/30/avatar-min.js&kx/yucs/uh2/mail-link/85/js/mailcount_v2-min.js&kx/ucs/search/js/226/search-min.js&kx/ucs/search/js/210/search_text_dir-min.js&kx/yucs/uh2/uh/295/js/activate_library-min.js&kx/yucs/uhc/meta/66/js/meta-min.js\\'></script>\\n</div> <!--(end) inc-universal_header.jake -->\\n \\n<!--(begin) inc-mainmenu.jake --><style>\\n#ymvmm .bd li.nav_movieca:hover,#ymvmm .bd li.nav_movieca_on {\\n    background-image:url(https://s.yimg.com/os/publish-images/movies/2014-08-29/e8ecac50-2f63-11e4-b450-51bca89dd413_nav_movieca_on.gif);\\n}\\n#ymvmm .bd li.nav_movieca {\\n    background-image:url(https://s.yimg.com/os/publish-images/movies/2014-08-29/e8e75520-2f63-11e4-aa8b-593645cf069f_nav_movieca.gif);\\n    border-right:solid 1px #0c2a4c;\\n}\\n#ymvmm .bd li.nav_photos:hover,#ymvmm .bd li.nav_photos_on {\\n    background-image:url(https://s.yimg.com/os/publish-images/movies/2014-08-29/e94812c0-2f63-11e4-8c12-4ba3898eacfc_nav_pic_on.gif);\\n}\\n#ymvmm .bd li.nav_photos {\\n    background-image:url(https://s.yimg.com/os/publish-images/movies/2014-08-29/e8ecd360-2f63-11e4-b450-51bca89dd413_nav_pic.gif);\\n    border-right:0;\\n}\\n#ymvmm .bd li.nav_liveshow {\\n    border-right:0;\\n}\\n</style>\\n<div id=\"ymvmm\">\\n    <div class=\"hd\"></div>\\n    <div class=\"bd\">\\n        <div>\\n            <ul class=\"clearfix\">\\n<li class=\"nav_home\"><a href=\"https://tw.rd.yahoo.com/referurl/movie/menubar/home/*https://tw.movies.yahoo.com/index.html\" hpp=\"nav-hp\" ><span>\\xe9\\x9b\\xbb\\xe5\\xbd\\xb1\\xe9\\xa6\\x96\\xe9\\xa0\\x81</span></a></li><li class=\"nav_intheater\"><a href=\"https://tw.rd.yahoo.com/referurl/movie/menubar/thisweek/*https://tw.movies.yahoo.com/movie_thisweek.html\" hpp=\"nav-thisweek\" ><span>\\xe6\\x9c\\xac\\xe9\\x80\\xb1\\xe6\\x96\\xb0\\xe7\\x89\\x87</span></a></li><li class=\"nav_comingsoon\"><a href=\"https://tw.rd.yahoo.com/referurl/movie/menubar/comingsoon/*https://tw.movies.yahoo.com/movie_comingsoon.html\" hpp=\"nav-comingsoon\" ><span>\\xe5\\x8d\\xb3\\xe5\\xb0\\x87\\xe4\\xb8\\x8a\\xe6\\x98\\xa0</span></a></li><li class=\"nav_trailer\"><a href=\"https://tw.rd.yahoo.com/referurl/movie/menubar/trailer/*https://tw.movies.yahoo.com/trailer_index.html\" hpp=\"nav-trailer\" ><span>\\xe9\\xa0\\x90\\xe5\\x91\\x8a\\xe7\\x89\\x87</span></a></li><li class=\"nav_chart\"><a href=\"https://tw.rd.yahoo.com/referurl/movie/menubar/chart/*https://tw.movies.yahoo.com/chart.html\" hpp=\"nav-chart\" ><span>\\xe6\\x8e\\x92\\xe8\\xa1\\x8c\\xe6\\xa6\\x9c</span></a></li><li class=\"nav_info\"><a href=\"https://tw.rd.yahoo.com/referurl/movie/menubar/article/*https://tw.movies.yahoo.com/article_index.html\" hpp=\"nav-article\" ><span>\\xe6\\x83\\x85\\xe5\\xa0\\xb1\\xe7\\xab\\x99</span></a></li><li class=\"nav_tv\"><a href=\"https://tw.rd.yahoo.com/referurl/movie/menubar/tv/*https://tw.movies.yahoo.com/tv_index.html\" hpp=\"nav-tv\" ><span>\\xe9\\x9b\\xbb\\xe8\\xa6\\x96\\xe6\\x99\\x82\\xe5\\x88\\xbb</span></a></li><li class=\"nav_photos\"><a href=\"https://tw.rd.yahoo.com/referurl/movie/menubar/photos/*https://tw.campaign.yahoo.com/movies/photos/\" hpp=\"nav_photos\" ><span>\\xe7\\xb2\\xbe\\xe5\\xbd\\xa9\\xe5\\x9c\\x96\\xe7\\x89\\x87</span></a></li><li class=\"nav_movieca\"><a href=\"https://tw.rd.yahoo.com/referurl/movie/menubar/tumblr/*http://tw.rd.yahoo.com/sig/SIG=113t76t1r/*http%3A//yahootwmovie.tumblr.com/\" hpp=\"nav_movieca\" target=\"_blank\"><span>\\xe9\\x9b\\xbb\\xe5\\xbd\\xb1\\xe5\\x92\\x96</span></a></li></ul>\\n        </div>\\n    </div>\\n    <div class=\"ft\"></div>\\n</div>\\n<!--(end) inc-mainmenu.jake -->\\n<!--(begin) inc-schbar_time.jake -->\\n <div id=\"ymvst\">\\n <div class=\"bd clearfix\">\\n <div class=\"clearfix\">\\n <form name=\"schbar\" method=\"get\" hpp=\"nav-movietime\">\\n <select>\\n <option value=\"movie\"  selected=\"true\">\\xe9\\x9b\\xbb\\xe5\\xbd\\xb1\\xe6\\x99\\x82\\xe5\\x88\\xbb</option> <option value=\"tv\" >\\xe9\\x9b\\xbb\\xe8\\xa6\\x96\\xe6\\x99\\x82\\xe5\\x88\\xbb</option> </select>\\n <select name=\"id\" class=\"auto\">\\n <option value=\"\">\\xe9\\x81\\xb8\\xe6\\x93\\x87\\xe7\\x89\\x87\\xe5\\x90\\x8d</option>\\n <option value=\\'6240\\'>\\xe7\\xac\\xac\\xe5\\x8d\\x81\\xe5\\xb1\\x86\\xe5\\x8f\\xb0\\xe7\\x81\\xa3\\xe5\\x9c\\x8b\\xe9\\x9a\\x9b\\xe7\\xb4\\x80\\xe9\\x8c\\x84\\xe7\\x89\\x87\\xe5\\xbd\\xb1\\xe5\\xb1\\x95</option><option value=\\'6249\\'>\\xe6\\x84\\x9b\\xef\\xbc\\x8c\\xe5\\x9b\\x9a\\xe7\\xa6\\x81</option><option value=\\'6192\\'>\\xe6\\x9c\\x80\\xe5\\xbe\\x8c\\xe4\\xb8\\x80\\xe5\\xa0\\x82\\xe8\\xaa\\xb2</option><option value=\\'6246\\'>\\xe8\\xbc\\x9d\\xe7\\x85\\x8c\\xe5\\xb9\\xb4\\xe4\\xbb\\xa3</option><option value=\\'6198\\'>\\xe6\\x88\\x91\\xe7\\x9a\\x84\\xe9\\x95\\xb7\\xe5\\xb4\\x8e\\xe6\\xaf\\x8d\\xe8\\xa6\\xaa</option><option value=\\'6220\\'>\\xe5\\x82\\xbb\\xe7\\x93\\x9c\\xe5\\x90\\x91\\xe9\\x8c\\xa2\\xe8\\xa1\\x9d</option><option value=\\'6200\\'>\\xe5\\xb9\\xb8\\xe7\\xa6\\x8f\\xe7\\x99\\xbe\\xe5\\x88\\x86\\xe7\\x99\\xbe</option><option value=\\'6226\\'>\\xe7\\x81\\xab\\xe6\\x98\\x9f\\xe7\\x95\\xb0\\xe7\\xa8\\xae</option><option value=\\'6136\\'>\\xe6\\x83\\xa1\\xe9\\x84\\xb0\\xe7\\xba\\x8f\\xe8\\xba\\xab2</option><option value=\\'6167\\'>\\xe5\\xa4\\xa2\\xe9\\x81\\x8a\\xe4\\xba\\x9e\\xe9\\xa6\\xac\\xe9\\x81\\x9c</option><option value=\\'6244\\'>\\xe9\\x82\\xa3\\xe4\\xba\\x9b\\xe5\\xb9\\xb4\\xe7\\x8b\\x82\\xe7\\x86\\xb1\\xe6\\x88\\x80\\xe6\\x83\\x85</option><option value=\\'6236\\'>\\xe6\\x84\\x9b\\xe9\\x87\\x8d\\xe9\\x80\\xa2\\xe4\\xbb\\xa5\\xe5\\xbe\\x8c</option><option value=\\'6239\\'>\\xe8\\xa8\\x88\\xe7\\xa8\\x8b\\xe4\\xba\\xba\\xe7\\x94\\x9f</option><option value=\\'6251\\'>\\xe5\\xbf\\xab\\xe6\\xa8\\x82\\xe5\\x91\\x8a\\xe5\\x88\\xa5\\xe7\\x9a\\x84\\xe6\\x96\\xb9\\xe6\\xb3\\x95</option><option value=\\'6176\\'>\\xe5\\x8f\\x8d\\xe6\\x93\\x8a</option><option value=\\'6064\\'>\\xe7\\xbe\\x8e\\xe5\\x9c\\x8b\\xe9\\x9a\\x8a\\xe9\\x95\\xb73\\xef\\xbc\\x9a\\xe8\\x8b\\xb1\\xe9\\x9b\\x84\\xe5\\x85\\xa7\\xe6\\x88\\xb0</option><option value=\\'6227\\'>\\xe5\\xa4\\xa7\\xe7\\x8a\\xaf\\xe7\\xbd\\xaa\\xe5\\xae\\xb6</option><option value=\\'6196\\'>\\xe5\\xaa\\xbd\\xe5\\xaa\\xbd\\xe7\\x9a\\x84\\xe5\\x91\\xb3\\xe5\\x99\\x8c\\xe6\\xb9\\xaf</option><option value=\\'6235\\'>\\xe7\\x9b\\x9c\\xe6\\x84\\x9b\\xe4\\xb9\\x8b\\xe5\\xae\\xb6</option><option value=\\'6242\\'>\\xe8\\x8f\\xaf\\xe9\\xba\\x97\\xe4\\xb9\\x8b\\xe5\\xa2\\x93</option><option value=\\'6219\\'>\\xe6\\xa0\\xbc\\xe9\\x9b\\xb7\\xe7\\x9a\\x84\\xe4\\xba\\x94\\xe5\\x8d\\x81\\xe9\\x81\\x93\\xe9\\xbb\\x91\\xe5\\xbd\\xb1</option><option value=\\'6188\\'>\\xe7\\x82\\xba\\xe4\\xbb\\x80\\xe9\\xba\\xbc\\xe8\\xb2\\x93\\xe9\\x83\\xbd\\xe5\\x8f\\xab\\xe4\\xb8\\x8d\\xe4\\xbe\\x86</option><option value=\\'6180\\'>\\xe6\\x91\\xa9\\xe5\\xa4\\xa9\\xe6\\xa8\\x93</option><option value=\\'6209\\'>\\xe9\\x9d\\x9e\\xe6\\xad\\xbb\\xe4\\xb8\\x8d\\xe5\\x8f\\xaf</option><option value=\\'6208\\'>\\xe5\\xb0\\x8b\\xe7\\xa7\\x98\\xe8\\xa1\\x97\\xe6\\x8b\\x8d\\xe5\\xae\\xa2</option><option value=\\'6225\\'>\\xe6\\xad\\xbb\\xe6\\x9c\\x9f\\xe5\\xa4\\xa7\\xe5\\x85\\xac\\xe9\\x96\\x8b</option><option value=\\'6202\\'>\\xe5\\xa4\\xb1\\xe6\\x8e\\xa7\\xe8\\xac\\x8a\\xe8\\xa8\\x80</option><option value=\\'6211\\'>\\xe6\\x8f\\x9b\\xe8\\x85\\xa6\\xe8\\xa1\\x8c\\xe5\\x8b\\x95</option><option value=\\'6126\\'>\\xe8\\x88\\x87\\xe6\\xa3\\xae\\xe6\\x9e\\x97\\xe5\\x85\\xb1\\xe8\\x88\\x9e</option><option value=\\'6030\\'>\\xe6\\x80\\xa7\\xe6\\x9c\\xac\\xe6\\x84\\x9b</option><option value=\\'6201\\'>\\xe3\\x80\\x8a\\xe6\\x96\\xb0\\xe5\\xa4\\xa9\\xe5\\xa0\\x82\\xe6\\xa8\\x82\\xe5\\x9c\\x92\\xe3\\x80\\x8b25\\xe9\\x80\\xb1\\xe5\\xb9\\xb4\\xe6\\x95\\xb8\\xe4\\xbd\\x8d\\xe4\\xbf\\xae\\xe5\\xbe\\xa9\\xe7\\x89\\x88</option><option value=\\'6140\\'>\\xe5\\x90\\xb8\\xe7\\x89\\xb9\\xe6\\xa8\\x82\\xe5\\x9b\\x9e\\xe4\\xbe\\x86\\xe4\\xba\\x86\\xef\\xbc\\x81</option><option value=\\'6143\\'>\\xe9\\xa3\\x9b\\xe8\\xba\\x8d\\xe5\\xa5\\x87\\xe8\\xb9\\x9f</option><option value=\\'6051\\'>\\xe7\\x8b\\xa9\\xe7\\x8d\\xb5\\xe8\\x80\\x85\\xef\\xbc\\x9a\\xe5\\x87\\x9c\\xe5\\x86\\xac\\xe4\\xb9\\x8b\\xe6\\x88\\xb0</option><option value=\\'6190\\'>\\xe8\\xb7\\xaf\\xe9\\x82\\x8a\\xe9\\x87\\x8e\\xe9\\xa4\\x90</option><option value=\\'5847\\'>\\xe5\\x8a\\x9f\\xe5\\xa4\\xab\\xe7\\x86\\x8a\\xe8\\xb2\\x933</option><option value=\\'5749\\'>\\xe8\\x9d\\x99\\xe8\\x9d\\xa0\\xe4\\xbf\\xa0\\xe5\\xb0\\x8d\\xe8\\xb6\\x85\\xe4\\xba\\xba\\xef\\xbc\\x9a\\xe6\\xad\\xa3\\xe7\\xbe\\xa9\\xe6\\x9b\\x99\\xe5\\x85\\x89</option><option value=\\'6115\\'>\\xe4\\xba\\x94\\xe6\\x98\\x9f\\xe7\\xb4\\x9a\\xe9\\xad\\x9a\\xe5\\xb9\\xb2\\xe5\\xa5\\xb3</option><option value=\\'6145\\'>\\xe5\\x96\\xae\\xe8\\xba\\xab\\xe5\\x8b\\x95\\xe7\\x89\\xa9\\xe5\\x9c\\x92</option><option value=\\'6151\\'>\\xe9\\x8c\\xa6\\xe8\\xa1\\xa3\\xe8\\xa1\\x9b\\xe2\\x94\\x80\\xe7\\xb9\\xa1\\xe6\\x98\\xa5\\xe5\\x88\\x80</option><option value=\\'6135\\'>\\xe7\\x9c\\x9f\\xe6\\x84\\x9b\\xe5\\x90\\xb5\\xe7\\x83\\x8f\\xe9\\xbe\\x8d</option><option value=\\'6119\\'>\\xe9\\x9c\\x87\\xe7\\x9b\\xaa\\xe6\\x95\\x88\\xe6\\x87\\x89</option><option value=\\'6085\\'>\\xe9\\xac\\xbc\\xe9\\x96\\x80\\xe9\\x96\\x8b</option><option value=\\'6091\\'>\\xe5\\x8b\\x95\\xe7\\x89\\xa9\\xe6\\x96\\xb9\\xe5\\x9f\\x8e\\xe5\\xb8\\x82</option><option value=\\'6011\\'>\\xe9\\xa9\\x9a\\xe7\\x88\\x86\\xe7\\x84\\xa6\\xe9\\xbb\\x9e</option><option value=\\'6104\\'>\\xe8\\xa5\\xbf\\xe9\\x81\\x8a\\xe8\\xa8\\x98\\xe4\\xb9\\x8b\\xe5\\xad\\xab\\xe6\\x82\\x9f\\xe7\\xa9\\xba\\xe4\\xb8\\x89\\xe6\\x89\\x93\\xe7\\x99\\xbd\\xe9\\xaa\\xa8\\xe7\\xb2\\xbe</option><option value=\\'5934\\'>\\xe4\\xb8\\xb9\\xe9\\xba\\xa5\\xe5\\xa5\\xb3\\xe5\\xad\\xa9</option><option value=\\'5904\\'>\\xe6\\x83\\xa1\\xe6\\xa3\\x8d\\xe8\\x8b\\xb1\\xe9\\x9b\\x84\\xef\\xbc\\x9a\\xe6\\xad\\xbb\\xe4\\xbe\\x8d</option><option value=\\'6099\\'>\\xe5\\x96\\xae\\xe8\\xba\\xab\\xe5\\x95\\xaa\\xe5\\x95\\xaa\\xe5\\x95\\xaa</option><option value=\\'6086\\'>\\xe7\\xa5\\x9e\\xe5\\xbb\\x9a</option><option value=\\'6007\\'>\\xe6\\x81\\x90\\xe9\\xbe\\x8d\\xe7\\x95\\xb6\\xe5\\xae\\xb6</option><option value=\\'6058\\'>\\xe5\\xa4\\xa7\\xe5\\xb0\\xbe\\xe9\\xb1\\xb8\\xe9\\xb0\\xbb2</option><option value=\\'6036\\'>13\\xe5\\xb0\\x8f\\xe6\\x99\\x82\\xef\\xbc\\x9a\\xe7\\x8f\\xad\\xe5\\x8a\\xa0\\xe8\\xa5\\xbf\\xe7\\x9a\\x84\\xe7\\xa7\\x98\\xe5\\xaf\\x86\\xe5\\xa3\\xab\\xe5\\x85\\xb5</option><option value=\\'5857\\'>\\xe5\\x8f\\xb2\\xe5\\xb8\\x9d\\xe5\\xa4\\xab\\xe8\\xb3\\x88\\xe4\\xbc\\xaf\\xe6\\x96\\xaf</option><option value=\\'6062\\'>\\xe7\\xac\\xac5\\xe6\\xaf\\x80\\xe6\\xbb\\x85</option><option value=\\'5985\\'>\\xe5\\xa4\\xa7\\xe8\\xb3\\xa3\\xe7\\xa9\\xba</option><option value=\\'5888\\'>\\xe7\\xa5\\x9e\\xe9\\xac\\xbc\\xe7\\x8d\\xb5\\xe4\\xba\\xba</option><option value=\\'5999\\'>\\xe7\\xbf\\xbb\\xe8\\xbd\\x89\\xe5\\xb9\\xb8\\xe7\\xa6\\x8f</option><option value=\\'5802\\'>\\xe9\\x9d\\x92\\xe7\\x94\\xb0\\xe8\\xa1\\x97\\xe4\\xb8\\x80\\xe8\\x99\\x9f</option><option value=\\'5851\\'>\\xe5\\xa4\\xaa\\xe5\\xb9\\xb3\\xe8\\xbc\\xaa\\xef\\xbc\\x9a\\xe9\\xa9\\x9a\\xe6\\xbf\\xa4\\xe6\\x91\\xaf\\xe6\\x84\\x9b</option><option value=\\'5783\\'>\\xe9\\x80\\xb2\\xe6\\x93\\x8a\\xe7\\x9a\\x84\\xe5\\xb7\\xa8\\xe4\\xba\\xba</option><option value=\\'5644\\'>\\xe9\\xa9\\x9a\\xe5\\xa5\\x874\\xe8\\xb6\\x85\\xe4\\xba\\xba</option><option value=\\'5804\\'>\\xe9\\xa9\\x9a\\xe4\\xb8\\x96\\xe5\\x8a\\xab\\xe4\\xbd\\x9c</option><option value=\\'5515\\'>\\xe5\\xb0\\x8f\\xe5\\xb0\\x8f\\xe5\\x85\\xb5</option><option value=\\'5564\\'>\\xe9\\xad\\x94\\xe9\\xac\\xbc\\xe7\\xb5\\x82\\xe7\\xb5\\x90\\xe8\\x80\\x85\\xef\\xbc\\x9a\\xe5\\x89\\xb5\\xe4\\xb8\\x96\\xe5\\xa5\\x91\\xe6\\xa9\\x9f</option><option value=\\'5645\\'>\\xe7\\x86\\x8a\\xe9\\xba\\xbb\\xe5\\x90\\x892</option><option value=\\'5526\\'>\\xe4\\xbe\\x8f\\xe7\\xbe\\x85\\xe7\\xb4\\x80\\xe4\\xb8\\x96\\xe7\\x95\\x8c</option><option value=\\'5262\\'>\\xe9\\x80\\x90\\xe5\\xa4\\xa2\\xe4\\xb8\\x8a\\xe5\\xad\\xb8\\xe8\\xb7\\xaf</option><option value=\\'4887\\'>\\xe4\\xb8\\x80\\xe9\\xa6\\x96\\xe6\\x90\\x96\\xe6\\xbb\\xbe\\xe4\\xb8\\x8a\\xe6\\x9c\\x88\\xe7\\x90\\x83</option><option value=\\'3026\\'>\\xe9\\x8c\\xa2\\xe4\\xb8\\x8d\\xe5\\xa4\\xa0\\xe7\\x94\\xa82</option>\\n </select>\\n <select name=\"area\" class=\"af_auto\">\\n <option>\\xe9\\x81\\xb8\\xe6\\x93\\x87\\xe5\\x9c\\xb0\\xe5\\x8d\\x80</option>\\n </select> <input type=\"submit\" value=\"\\xe6\\x9f\\xa5 \\xe8\\xa9\\xa2\" class=\"button\" />\\n </form>\\n <div class=\"schbar_mv clearfix\"> <a href=\"https://tw.rd.yahoo.com/referurl/movie/hp/theaterlist/*https://tw.movies.yahoo.com/theater_list.html\" class=\"overview\" hpp=\"nav-theater-list\">\\xe6\\x88\\xb2\\xe9\\x99\\xa2\\xe7\\xb8\\xbd\\xe8\\xa6\\xbd</a> <form method=\"get\" action=\"/moviesearch_result.html\" hpp=\"nav-movie-search\">\\n <label>\\xe9\\x9b\\xbb\\xe5\\xbd\\xb1\\xe6\\x9f\\xa5\\xe8\\xa9\\xa2\\xef\\xbc\\x9a</label>\\n <input type=\"text\" class=\"text\" id=\"qmv\" name=\"qmv\" value=\"\"/> <input type=\"submit\" value=\"\\xe6\\x9f\\xa5 \\xe8\\xa9\\xa2\" class=\"button\" />\\n </form>\\n <div class=\"hot\">\\n <span>\\xe7\\x86\\xb1\\xe9\\x96\\x80\\xef\\xbc\\x9a</span>\\n<span><a href=\\'https://tw.rd.yahoo.com//referurl/movie/hp/hotwords/text1/*https://tw.movies.yahoo.com/movieinfo_main.html/id=6041\\'>\\xe5\\xbc\\xb7\\xe5\\xb0\\xbc\\xe6\\x88\\xb4\\xe6\\x99\\xae</a></span><span><a href=\\'https://tw.rd.yahoo.com//referurl/movie/hp/hotwords/text2/*https://tw.movies.yahoo.com/movieinfo_main.html/id=6241\\'>\\xe6\\x9e\\x97\\xe5\\xbf\\x83\\xe5\\xa6\\x82</a></span><span><a href=\\'https://tw.rd.yahoo.com//referurl/movie/hp/hotwords/text3/*https://tw.movies.yahoo.com/movieinfo_main.html/id=6064\\'>\\xe7\\xbe\\x8e\\xe5\\x9c\\x8b\\xe9\\x9a\\x8a\\xe9\\x95\\xb73</a></span> </div>\\n </div>\\n <div class=\"schbar_tv clearfix\" style=\"display:none\"> <a href=\"?\" class=\"overview\"></a>\\n <form method=\"get\" action=\"/tvtime_result.html\" hpp=\"nav-tvtime\">\\n <label>\\xe9\\x9b\\xbb\\xe8\\xa6\\x96\\xe7\\xaf\\x80\\xe7\\x9b\\xae\\xe6\\x9f\\xa5\\xe8\\xa9\\xa2\\xef\\xbc\\x9a</label>\\n <input type=\"text\" class=\"text\" id=\"qtv\" name=\"qtv\" value=\"\"/> <input type=\"submit\" value=\"\\xe6\\x9f\\xa5 \\xe8\\xa9\\xa2\" class=\"button\" />\\n </form>\\n <div class=\"hot\"><span>(\\xe5\\x8f\\xaf\\xe4\\xbb\\xa5\\xe6\\x9f\\xa5\\xe8\\xa9\\xa25\\xe5\\xa4\\xa9\\xe5\\x85\\xa7\\xe8\\xb3\\x87\\xe6\\x96\\x99)</span></div>\\n </div>\\n </div>\\n </div>\\n <div class=\"ft\">\\n <div><!--footer--></div>\\n </div>\\n</div>\\n<script type=\"text/javascript\">YTWMV.Module.SchBarTime(document.getElementById(\\'ymvst\\'));</script><!--(end) inc-schbar_time.jake -->\\n \\n<!--(begin) inc-toolbar_back.jake -->\\n<div id=\"ymvptb\">\\n <div class=\"bd\">\\n <form class=\"text\" disabled>\\xe6\\xad\\xa4\\xe7\\x82\\xba\\xe9\\xa0\\x90\\xe8\\xa6\\xbd\\xe5\\x88\\x97\\xe5\\x8d\\xb0\\xe6\\xa8\\xa1\\xe5\\xbc\\x8f\\xef\\xbc\\x8c\\xe5\\x8f\\xaf\\xe9\\x81\\xb8\\xe6\\x93\\x87\\xe5\\x88\\x97\\xe5\\x8d\\xb0\\xe6\\x9c\\xac\\xe9\\xa0\\x81\\xe6\\x88\\x96\\xe5\\x89\\x8d\\xe7\\x95\\xab\\xe9\\x9d\\xa2</form>\\n <span class=\"link\">\\n <a class=\"print\" href=\"#\" onclick=\"self.print();return false;\"><img src=\"https://s.yimg.com/f/i/tw/movie/i6/button_ptprint.gif\"></a>&nbsp;&nbsp;<a class=\"back\" href=\"#\" onclick=\"location.reload();return false;\"><img src=\"https://s.yimg.com/f/i/tw/movie/i6/button_ptback.gif\"></a>\\n </span>\\n </div>\\n</div>\\n<!--(end) inc-toolbar_back.jake -->\\n </div>\\n <div id=\"bd\">\\n <div id=\"yui-main\">\\n <div class=\"yui-b\">\\n<!--(begin) inc-movieinfo_tab.jake -->\\n<div id=\"ymvmvt\" class=\"ymvmodule\">\\n <div class=\"bd tab\">\\n <div class=\"bd-container\">\\n <ul class=\"clearfix\">\\n <li class=\"on\">\\n <q class=\"cl\"></q><q class=\"cr\"></q>\\n <q class=\"pipe\"></q>\\n <q class=\"pointer\"><img src=\"https://s.yimg.com/f/i/tw/movie/i6/tab_pointer.gif\" /></q>\\n <span>\\xe9\\x9b\\xbb\\xe5\\xbd\\xb1\\xe4\\xbb\\x8b\\xe7\\xb4\\xb9</span>\\n </li> <li>\\n <q class=\"cl\"></q><q class=\"cr\"></q>\\n <q class=\"pipe\"></q>\\n <q class=\"pointer\"><img src=\"https://s.yimg.com/f/i/tw/movie/i6/tab_pointer.gif\" /></q>\\n <span><a href=\\'/movieinfo_cast.html/id=6192\\' hpp=\\'movieinfo-nav-cast\\'>\\xe6\\xbc\\x94\\xe5\\x93\\xa1\\xe5\\x8d\\xa1\\xe5\\x8f\\xb8</a></span>\\n </li> <li>\\n <q class=\"cl\"></q><q class=\"cr\"></q>\\n <q class=\"pipe\"></q>\\n <q class=\"pointer\"><img src=\"https://s.yimg.com/f/i/tw/movie/i6/tab_pointer.gif\" /></q>\\n <span><a href=\\'/video/\\xe6\\x9c\\x80\\xe5\\xbe\\x8c-\\xe5\\xa0\\x82\\xe8\\xaa\\xb2-\\xe4\\xb8\\xad\\xe6\\x96\\x87\\xe9\\xa0\\x90\\xe5\\x91\\x8a-144847919.html\\' hpp=\\'movieinfo-nav-trailer\\'>\\xe9\\xa0\\x90\\xe5\\x91\\x8a\\xe7\\x89\\x87</a></span>\\n </li> <li>\\n <q class=\"cl\"></q><q class=\"cr\"></q>\\n <q class=\"pipe\"></q>\\n <q class=\"pointer\"><img src=\"https://s.yimg.com/f/i/tw/movie/i6/tab_pointer.gif\" /></q>\\n <span><a href=\\'/movieinfo_photos.html/id=6192\\' hpp=\\'movieinfo-nav-photo\\'>\\xe5\\x8a\\x87\\xe7\\x85\\xa7</a></span>\\n </li> <li class=\\'last\\'>\\n <q class=\"cl\"></q><q class=\"cr\"></q>\\n <q class=\"pipe\"></q>\\n <q class=\"pointer\"><img src=\"https://s.yimg.com/f/i/tw/movie/i6/tab_pointer.gif\" /></q>\\n <span><a href=\\'/movieinfo_review.html/id=6192\\' hpp=\\'movieinfo-nav-review\\'>\\xe7\\xb6\\xb2\\xe5\\x8f\\x8b\\xe7\\x9f\\xad\\xe8\\xa9\\x95</a></span>\\n </li> </ul>\\n </div>\\n </div>\\n</div>\\n\\n<!--(end) inc-movieinfo_tab.jake -->\\n \\n<!--(begin) inc-path_back.jake -->\\n <div id=\"ymvpb\">\\n <div class=\"bd\">\\n <div>\\n <span><a href=\\'movie_home.html\\'>\\xe9\\x9b\\xbb\\xe5\\xbd\\xb1\\xe9\\xa6\\x96\\xe9\\xa0\\x81</a> > </span> <span>\\xe9\\x9b\\xbb\\xe5\\xbd\\xb1\\xe4\\xbb\\x8b\\xe7\\xb4\\xb9</span> </div>\\n </div>\\n</div>\\n<!--(end) inc-path_back.jake -->\\n \\n<!--(begin) inc-pagetools_fb.jake -->\\n<div id=\"fb-root\"></div>\\n<script>(function(d, s, id) {\\n var js, fjs = d.getElementsByTagName(s)[0];\\n if (d.getElementById(id)) return;\\n js = d.createElement(s); js.id = id;\\n js.src = \"//connect.facebook.net/zh_TW/sdk.js#xfbml=1&appId=501887343352051&version=v2.5\";\\n fjs.parentNode.insertBefore(js, fjs);\\n}(document, \\'script\\', \\'facebook-jssdk\\'));</script>\\n<div class=\"fb-like\" data-href=\"https://tw.movies.yahoo.com/movieinfo_main.html/id=6192\" data-layout=\"button_count\" data-action=\"like\" data-show-faces=\"true\" data-share=\"true\" style=\"margin:5px 10px;\"></div><!--(end) inc-pagetools_fb.jake -->\\n<!--(begin) inc-mvinfo_full.jake -->\\n<div id=\"ymvmvf\" class=\"ymvmodule\">\\n <div class=\"bd\">\\n <div class=\"bd-container\">\\n <div class=\"item clearfix\">\\n <div class=\"img\">\\n <div class=\"border\"><a href=\"https://tw.rd.yahoo.com/referurl/movie/movieinfo/bigposter/*https://s.yimg.com/vu/movies/fp/mpost/61/92/6192.jpg\" target=\"_poster\"><img src=\"https://s.yimg.com/vu/movies/fp/mpost2/61/92/6192.jpg\" title=\"\\xe6\\x9c\\x80\\xe5\\xbe\\x8c\\xe4\\xb8\\x80\\xe5\\xa0\\x82\\xe8\\xaa\\xb2\" /></a></div>\\n <div class=\"ourter\"><a class=\"enlarge\" href=\"https://tw.rd.yahoo.com/referurl/movie/movieinfo/bigposter/*https://s.yimg.com/vu/movies/fp/mpost/61/92/6192.jpg\" target=\"_poster\">\\xe6\\x94\\xbe\\xe5\\xa4\\xa7\\xe5\\x9c\\x96\\xe7\\x89\\x87</a></div>\\n </div>\\n <div class=\"text bulletin\">\\n <img class=\"gate\" src=\"https://s.yimg.com/ji/movies/class/1.gif\">\\n <h4>\\xe6\\x9c\\x80\\xe5\\xbe\\x8c\\xe4\\xb8\\x80\\xe5\\xa0\\x82\\xe8\\xaa\\xb2</h4>\\n <h5>The Final Lesson</h5>\\n <p><span class=\"tit\">\\xe4\\xb8\\x8a\\xe6\\x98\\xa0\\xe6\\x97\\xa5\\xe6\\x9c\\x9f\\xef\\xbc\\x9a</span><span class=\"dta\">2016-05-06</span></p>\\n <p><span class=\"tit\">\\xe9\\xa1\\x9e\\xe3\\x80\\x80\\xe3\\x80\\x80\\xe5\\x9e\\x8b\\xef\\xbc\\x9a</span><span class=\"dta\"><a href=\\'https://tw.rd.yahoo.com/referurl/movie/movieinfo/genre/*https://tw.movies.yahoo.com/moviegenre_result.html?id=11\\'>\\xe6\\xba\\xab\\xe9\\xa6\\xa8/\\xe5\\xae\\xb6\\xe5\\xba\\xad</a></span></p>\\n <p><span class=\"tit\">\\xe7\\x89\\x87\\xe3\\x80\\x80\\xe3\\x80\\x80\\xe9\\x95\\xb7\\xef\\xbc\\x9a</span><span class=\"dta\">1\\xe6\\x99\\x8246\\xe5\\x88\\x86</span></p>\\n <p><span class=\"tit\">\\xe5\\xb0\\x8e\\xe3\\x80\\x80\\xe3\\x80\\x80\\xe6\\xbc\\x94\\xef\\xbc\\x9a</span><span class=\"dta\"><a href=\\'/artist_filmography.html?name=\\xe8\\x8a\\xad\\xe7\\xb5\\xb2\\xe5\\x8d\\xa1\\xef\\xbc\\x8e\\xe5\\xb8\\x83\\xe8\\x8e\\x8e\\xe6\\x9d\\x9c\\xef\\xbc\\x88Pascale Pouzadoux\\xef\\xbc\\x89\\'>\\xe8\\x8a\\xad\\xe7\\xb5\\xb2\\xe5\\x8d\\xa1\\xef\\xbc\\x8e\\xe5\\xb8\\x83\\xe8\\x8e\\x8e\\xe6\\x9d\\x9c\\xef\\xbc\\x88Pascale Pouzadoux\\xef\\xbc\\x89</a></span></p>\\n <p><span class=\"tit\">\\xe6\\xbc\\x94\\xe3\\x80\\x80\\xe3\\x80\\x80\\xe5\\x93\\xa1\\xef\\xbc\\x9a</span><span class=\"dta\"><a href=\\'/artist_filmography.html?name=\\xe6\\xa1\\x91\\xe5\\xbe\\xb7\\xe7\\x90\\xb3\\xef\\xbc\\x8e\\xe6\\xb3\\xa2\\xe5\\xa5\\x88\\xe5\\x85\\x92\\xef\\xbc\\x88Sandrine Bonnaire\\xef\\xbc\\x89\\'\\xe7\\x91\\xaa\\xe8\\x92\\x82\\xef\\xbc\\x8e\\xe8\\x96\\x87\\xe6\\x8b\\x89\\xe9\\x9a\\x86\\xe5\\x8a\\xa0\\xef\\xbc\\x88Marthe Villalonga\\xef\\xbc\\x89\\'\\xe5\\xae\\x89\\xe7\\xab\\xaf\\xef\\xbc\\x8e\\xe6\\x9d\\x9c\\xe8\\x90\\x8a\\xe8\\xa5\\xbf\\xef\\xbc\\x88Antoine Dul\\xc3\\xa9ry\\xef\\xbc\\x89\\'>\\xe6\\xa1\\x91\\xe5\\xbe\\xb7\\xe7\\x90\\xb3\\xef\\xbc\\x8e\\xe6\\xb3\\xa2\\xe5\\xa5\\x88\\xe5\\x85\\x92\\xef\\xbc\\x88Sandrine Bonnaire\\xef\\xbc\\x89\\'\\xe7\\x91\\xaa\\xe8\\x92\\x82\\xef\\xbc\\x8e\\xe8\\x96\\x87\\xe6\\x8b\\x89\\xe9\\x9a\\x86\\xe5\\x8a\\xa0\\xef\\xbc\\x88Marthe Villalonga\\xef\\xbc\\x89\\'\\xe5\\xae\\x89\\xe7\\xab\\xaf\\xef\\xbc\\x8e\\xe6\\x9d\\x9c\\xe8\\x90\\x8a\\xe8\\xa5\\xbf\\xef\\xbc\\x88Antoine Dul\\xc3\\xa9ry\\xef\\xbc\\x89</a></span></p>\\n <p><span class=\"tit\">\\xe7\\x99\\xbc\\xe8\\xa1\\x8c\\xe5\\x85\\xac\\xe5\\x8f\\xb8\\xef\\xbc\\x9a</span><span class=\"dta\">\\xe5\\xa4\\xa9\\xe9\\xa6\\xac\\xe8\\xa1\\x8c\\xe7\\xa9\\xba</span></p>\\n <p><span class=\"tit\">\\xe5\\xae\\x98\\xe6\\x96\\xb9\\xe7\\xb6\\xb2\\xe7\\xab\\x99\\xef\\xbc\\x9a</span><span class=\"dta\"><a href=\\'http://www.facebook.com/skydigi\\' class=\\'breakfix\\' target=\\'_blank\\'>http://www.facebook.com/skydigi</a></br><a href=\\'http://www.skydigient.com\\' class=\\'breakfix\\' target=\\'_blank\\'>http://www.skydigient.com</a></span></p>\\n </div>\\n <form method=\"post\">\\n <div class=\"text clearfix\"> <div class=\"clearfix\">\\n <ul class=\"links\"> <li class=\"trailer\"><a href=\"https://tw.rd.yahoo.com//referurl/movie/movieinfo/trailer/*https://tw.movies.yahoo.com/video/\\xe6\\x9c\\x80\\xe5\\xbe\\x8c-\\xe5\\xa0\\x82\\xe8\\xaa\\xb2-\\xe4\\xb8\\xad\\xe6\\x96\\x87\\xe9\\xa0\\x90\\xe5\\x91\\x8a-144847919.html\" hpp=\\'movieinfo-trailer-icon\\'>\\xe9\\xa0\\x90\\xe5\\x91\\x8a\\xe7\\x89\\x87</a></li> <li class=\"time\"><a href=\"https://tw.rd.yahoo.com//referurl/movie/movieinfo/movietime/*https://tw.movies.yahoo.com/movietime_result.html?id=6192\" hpp=\\'movieinfo-movietime-icon\\'>\\xe6\\x99\\x82\\xe5\\x88\\xbb\\xe8\\xa1\\xa8</a></li> </ul>\\n </div> </div>\\n </form>\\n </div>\\n </div>\\n </div>\\n <div class=\"ft\"><div></div></div>\\n <div class=\"gap\"></div>\\n <div class=\"rating\">\\n <div class=\"head gradient\">\\n <div><h3>\\xe7\\x82\\xba\\xe6\\x9c\\xac\\xe7\\x89\\x87\\xe8\\xa9\\x95\\xe5\\x88\\x86</h3></div>\\n <span><a href=\"/movieinfo_review.html/id=6192\" hpp=\\'movieinfo-review-icon\\'>\\xe7\\x9c\\x8b\\xe7\\xb6\\xb2\\xe5\\x8f\\x8b\\xe7\\x9f\\xad\\xe8\\xa9\\x95</a></span>\\n </div>\\n <div class=\"body\">\\n <div class=\"item clearfix\"><!--(begin) inc-movieinfo_exp.jake -->\\n<script type=\\'text/javascript\\'>var mobile_auth_url=\\'https://tw.yts.billing.yahoo.com/mobile_auth/auth/mobile_show?done=http%3A%2F%2Ftw.movies.yahoo.com%2Fmovieinfo_main.html%2Fid%3D6192&py=MOVIE&t=MTQ2MjUxODU0Mg--&s_sign=XgpFGe6g1rseLbeFFltkeD3Gu00-&_crumb=\\'</script><div id=\"ymvie\" class=\"clearfix\">\\n <div class=\"hd\"><div></div></div>\\n <div class=\"bd clearfix\">\\n<form><h4>\\xe6\\x9c\\x9f\\xe5\\xbe\\x85\\xe5\\xba\\xa6</h4><p>\\xe9\\x9b\\xbb\\xe5\\xbd\\xb1\\xe5\\xb7\\xb2\\xe4\\xb8\\x8a\\xe6\\x98\\xa0\\xef\\xbc\\x8c\\xe4\\xb8\\x8d\\xe9\\x96\\x8b\\xe6\\x94\\xbe\\xe6\\x8a\\x95\\xe7\\xa5\\xa8</p></form>\\n <div class=\"vote clearfix\">\\n <p><del><ins style=\\'width:86%\\'></ins></del></p><em><strong>86%</strong>\\xe6\\x83\\xb3\\xe7\\x9c\\x8b</em><span>(\\xe5\\x85\\xb1<q>36</q>\\xe4\\xba\\xba\\xe6\\x8a\\x95\\xe7\\xa5\\xa8)</span>\\n </div>\\n </div>\\n <div class=\"ft\"><div></div></div>\\n</div><!--(end) inc-movieinfo_exp.jake -->\\n<!--(begin) inc-movieinfo_sat.jake -->\\n<script type=\\'text/javascript\\'>var mobile_auth_url=\\'https://tw.yts.billing.yahoo.com/mobile_auth/auth/mobile_show?done=http%3A%2F%2Ftw.movies.yahoo.com%2Fmovieinfo_main.html%2Fid%3D6192&py=MOVIE&t=MTQ2MjUxODU0Mg--&s_sign=XgpFGe6g1rseLbeFFltkeD3Gu00-&_crumb=\\'</script><div id=\"ymvis\" class=\"clearfix satrating\">\\n <div class=\"hd\"><div></div></div>\\n <div class=\"bd clearfix rank-list\">\\n<form>\\n<h4>\\xe6\\xbb\\xbf\\xe6\\x84\\x8f\\xe5\\xba\\xa6</h4>\\n<div class=\"clearfix\"><span>\\xe8\\xab\\x8b\\xe7\\xb5\\xa6\\xe5\\x88\\x86</span>:\\n<p class=\"\">\\n<a class=\"star1\" href=\"#\" title=\"1\"></a>\\n<a class=\"star2\" href=\"#\" title=\"2\"></a>\\n<a class=\"star3\" href=\"#\" title=\"3\"></a>\\n<a class=\"star4\" href=\"#\" title=\"4\"></a>\\n<a class=\"star5\" href=\"#\" title=\"5\"></a>\\n</p>\\n<input type=\"button\" name=\"\" value=\"\" title=\"\" onclick=\"window.location=\\'https://login.yahoo.com/config/login?.intl=tw&.done=https%3A%2F%2Ftw.movies.yahoo.com%2Fmovieinfo_main.html%2Fid%3D6192\\'\" hpp=\\'movieinfo-rate-sat\\'>\\n</div>\\n</form>\\n <div class=\"sum\"><p>\\xe7\\xb8\\xbd\\xe8\\xa9\\x95\\xe5\\x88\\x86:<em>3.0</em> <ins class=\"level1_half\"><img src=\"https://s.yimg.com/f/i/tw/movie/i6/rating_star_3.gif\" /></ins><span>(\\xe5\\x85\\xb1<q>1</q>\\xe4\\xba\\xba\\xe8\\xa9\\x95\\xe5\\x88\\x86)</span></p></div>\\n </div>\\n <div class=\"ft\"><div></div></div>\\n</div><!--(end) inc-movieinfo_sat.jake -->\\n </div>\\n </div>\\n </div>\\n</div><!--(end) inc-mvinfo_full.jake -->\\n<!--(begin) inc-ticketing.jake -->\\n<iframe class=\"ticketing\" src=\"https://www.ezding.com.tw/pages/iframe/iframe4yahoo.html\" allowtransparency=\"TRUE\" marginwidth=\"0\" marginheight=\"0\" frameborder=\"0\" height=\"88\" scrolling=\"NO\" width=\"640\"></iframe><!--(end) inc-ticketing.jake -->\\n<!--(begin) inc-vlist_pic.jake -->\\n<div id=\"ymvprve\" class=\"ymvmodule trl-com\">\\n <div class=\"hd gradient\">\\n <div><h3>\\xe9\\xa0\\x90\\xe5\\x91\\x8a\\xe7\\x89\\x87</h3></div>\\n </div>\\n <div class=\"bd vlist\">\\n <div class=\"bd-container\">\\n <div class=\"info clearfix\">\\n <div class=\"statistic\">\\xe5\\x85\\xb1<em id=\"plbsum1\"></em>\\xe6\\x94\\xaf\\xef\\xbc\\x8c\\xe7\\x9b\\xae\\xe5\\x89\\x8d\\xe9\\xa1\\xaf\\xe7\\xa4\\xba<em id=\"plbidx1\">1</em>\\xe6\\x94\\xaf</div>\\n <input type=\"hidden\" id=\"plbsize1\" value=\"1\">\\n <input type=\"hidden\" id=\"plblong1\" value=\"137\">\\n </div>\\n <div class=\"row_last\">\\n <div class=\"panel\">\\n <div id=\\'info\\'>\\n <a href=\\'#\\' id=\\'move-left1\\' class=\"move\"></a>\\n <div class=\\'list\\'>\\n <ul id=\\'albumlist\\' class=\"clearfix\">\\n <li>\\n <a href=\"/video/\\xe6\\x9c\\x80\\xe5\\xbe\\x8c-\\xe5\\xa0\\x82\\xe8\\xaa\\xb2-\\xe4\\xb8\\xad\\xe6\\x96\\x87\\xe9\\xa0\\x90\\xe5\\x91\\x8a-144847919.html\" class=\"ymvvdo\" hpp=\\'movieinfo-module-trailer\\'><img src=\"https://s.yimg.com/lo/api/res/1.2/4mzRwuGeDO7xoGYXX2VdMA--~A/YXBwaWQ9eXR3bW92aWViYWNrZW5kO2ZpPWZpbGw7aD03MDt3PTEwMA--/http://media.zenfs.com/en-US/video/video.pd2upload.com/video.asiamedia.com@647cc6c6-cb8e-3b52-bc29-0c92bbcb5e9c_FULL.jpg\" /><span class=\"play\"></span></a>\\n <h5><a href=\"/video/\\xe6\\x9c\\x80\\xe5\\xbe\\x8c-\\xe5\\xa0\\x82\\xe8\\xaa\\xb2-\\xe4\\xb8\\xad\\xe6\\x96\\x87\\xe9\\xa0\\x90\\xe5\\x91\\x8a-144847919.html\" hpp=\\'movieinfo-module-trailer\\'>\\xe6\\x9c\\x80\\xe5\\xbe\\x8c\\xe4\\xb8\\x80\\xe5\\xa0\\x82\\xe8\\xaa\\xb2 - \\xe4\\xb8\\xad\\xe6\\x96\\x87\\xe9\\xa0\\x90\\xe5\\x91\\x8a</a></h5>\\n <!--p>\\xe7\\x80\\x8f\\xe8\\xa6\\xbd\\xe4\\xba\\xba\\xe6\\x95\\xb8:<em>1,445,787</em></p-->\\n <p>\\xe6\\x9b\\xb4\\xe6\\x96\\xb0\\xe6\\x97\\xa5\\xe6\\x9c\\x9f:<em>2016-03-11</em></p>\\n </li>\\n\\n </ul>\\n </div>\\n <a href=\\'#\\' id=\\'move-right1\\' class=\"move\"></a>\\n </div>\\n </div>\\n </div>\\n </div>\\n </div>\\n <div class=\"ft\">\\n <div><ins><a href=\"/video/\\xe6\\x9c\\x80\\xe5\\xbe\\x8c-\\xe5\\xa0\\x82\\xe8\\xaa\\xb2-\\xe4\\xb8\\xad\\xe6\\x96\\x87\\xe9\\xa0\\x90\\xe5\\x91\\x8a-144847919.html\" hpp=\\'movieinfo-nav-trailer\\'>\\xe6\\x9b\\xb4\\xe5\\xa4\\x9a\\xe9\\xa0\\x90\\xe5\\x91\\x8a\\xe7\\x89\\x87</a></ins></div>\\n </div>\\n</div>\\n<!--(end) inc-vlist_pic.jake -->\\n<!--(begin) inc-plist_brief.jake -->\\n<div id=\"ymvplb\" class=\"ymvmodule\">\\n <div class=\"hd gradient\">\\n <div><h3>\\xe7\\xb2\\xbe\\xe9\\x87\\x87\\xe5\\x8a\\x87\\xe7\\x85\\xa7</h3></div>\\n </div>\\n <div class=\"bd vlist\">\\n <div class=\"bd-container\">\\n <div class=\"info clearfix\">\\n <div class=\"statistic\">\\xe5\\x85\\xb1<em id=\"plbsum\">7</em>\\xe5\\xbc\\xb5\\xef\\xbc\\x8c\\xe7\\x9b\\xae\\xe5\\x89\\x8d\\xe9\\xa1\\xaf\\xe7\\xa4\\xba<em id=\"plbidx\">1-4</em>\\xe5\\xbc\\xb5</div>\\n <input type=\"hidden\" id=\"plbsize\" value=\"4\">\\n <input type=\"hidden\" id=\"plblong\" value=\"140\">\\n </div>\\n <div class=\"row_last\">\\n <div class=\"panel\">\\n <div id=\\'info\\'>\\n <a href=\\'#\\' id=\\'move-left\\'></a>\\n <div class=\\'list\\'>\\n <ul id=\\'albums\\'> <li><a href=\"/photoplayer.html?id=6192&type=movie&play=67995\" class=\"ymvvdo\" target=\\'_photoplayer\\' hpp=\\'movieinfo-module-photo\\'><img src=\"https://s.yimg.com/vu/movies/fp/mpho4/79/95/67995.jpg\" /></a><div class=\"new\"><img src=\"https://s.yimg.com/f/i/tw/movie/i6/icon_new.gif\"/></div> <li><a href=\"/photoplayer.html?id=6192&type=movie&play=67994\" class=\"ymvvdo\" target=\\'_photoplayer\\' hpp=\\'movieinfo-module-photo\\'><img src=\"https://s.yimg.com/vu/movies/fp/mpho4/79/94/67994.jpg\" /></a><div class=\"new\"><img src=\"https://s.yimg.com/f/i/tw/movie/i6/icon_new.gif\"/></div> <li><a href=\"/photoplayer.html?id=6192&type=movie&play=67993\" class=\"ymvvdo\" target=\\'_photoplayer\\' hpp=\\'movieinfo-module-photo\\'><img src=\"https://s.yimg.com/vu/movies/fp/mpho4/79/93/67993.jpg\" /></a><div class=\"new\"><img src=\"https://s.yimg.com/f/i/tw/movie/i6/icon_new.gif\"/></div> <li><a href=\"/photoplayer.html?id=6192&type=movie&play=67992\" class=\"ymvvdo\" target=\\'_photoplayer\\' hpp=\\'movieinfo-module-photo\\'><img src=\"https://s.yimg.com/vu/movies/fp/mpho4/79/92/67992.jpg\" /></a><div class=\"new\"><img src=\"https://s.yimg.com/f/i/tw/movie/i6/icon_new.gif\"/></div> <li><a href=\"/photoplayer.html?id=6192&type=movie&play=67991\" class=\"ymvvdo\" target=\\'_photoplayer\\' hpp=\\'movieinfo-module-photo\\'><img src=\"https://s.yimg.com/vu/movies/fp/mpho4/79/91/67991.jpg\" /></a><div class=\"new\"><img src=\"https://s.yimg.com/f/i/tw/movie/i6/icon_new.gif\"/></div> <li><a href=\"/photoplayer.html?id=6192&type=movie&play=68940\" class=\"ymvvdo\" target=\\'_photoplayer\\' hpp=\\'movieinfo-module-photo\\'><img src=\"https://s.yimg.com/vu/movies/fp/mpho4/89/40/68940.jpg\" /></a><div class=\"new\"><img src=\"https://s.yimg.com/f/i/tw/movie/i6/icon_new.gif\"/></div> <li><a href=\"/photoplayer.html?id=6192&type=movie&play=68941\" class=\"ymvvdo\" target=\\'_photoplayer\\' hpp=\\'movieinfo-module-photo\\'><img src=\"https://s.yimg.com/vu/movies/fp/mpho4/89/41/68941.jpg\" /></a><div class=\"new\"><img src=\"https://s.yimg.com/f/i/tw/movie/i6/icon_new.gif\"/></div> </ul>\\n </div>\\n <a href=\\'#\\' id=\\'move-right\\'></a>\\n </div>\\n </div>\\n </div>\\n </div>\\n </div>\\n <div class=\"ft\">\\n <div>\\n <ins class=\"play\"><a href=\"/photoplayer.html?id=6192&type=movie&play=68941\" class=\"ymvvdo\" target=\"_photoplayer\">\\xe6\\x92\\xad\\xe6\\x94\\xbe\\xe5\\x8a\\x87\\xe7\\x85\\xa7</a></ins><ins><a href=\"/movieinfo_photos.html/id=6192\" hpp=\\'movieinfo-nav-photo\\'>\\xe6\\x9b\\xb4\\xe5\\xa4\\x9a\\xe5\\x8a\\x87\\xe7\\x85\\xa7</a></ins> </div>\\n </div>\\n</div><!--(end) inc-plist_brief.jake -->\\n \\n<!--(begin) inc-story.jake -->\\n<div id=\"ymvs\" class=\"ymvmodule\">\\n <div class=\"hd gradient\">\\n <div><h3>\\xe5\\x8a\\x87\\xe6\\x83\\x85\\xe7\\xb0\\xa1\\xe4\\xbb\\x8b</h3></div>\\n </div>\\n <div class=\"bd\">\\n <div class=\"bd-container\">\\n <div class=\"item clearfix\">\\n<div class=\"text full\"><p>\\xe9\\x80\\x99\\xe6\\x98\\xaf\\xe6\\x9c\\x80\\xe5\\xbe\\x8c\\xe7\\x9a\\x84\\xe4\\xb8\\x80\\xe5\\x80\\x8b\\xe7\\xa6\\xae\\xe7\\x89\\xa9\\xef\\xbc\\x8c\\xe4\\xb8\\x80\\xe4\\xbb\\xbd\\xe6\\xb0\\xb8\\xe4\\xb8\\x8d\\xe6\\xad\\xa2\\xe6\\x81\\xaf\\xe7\\x9a\\x84\\xe6\\x84\\x9b\\xe2\\x80\\xa6\\xe2\\x80\\xa6<br /><br />\\xe4\\xb8\\x80\\xe5\\x90\\x91\\xe6\\xa8\\x82\\xe8\\xa7\\x80\\xe7\\x9a\\x84\\xe7\\x91\\xaa\\xe5\\xbe\\xb7\\xe8\\x93\\xae\\xef\\xbc\\x88\\xe7\\x91\\xaa\\xe8\\x92\\x82\\xef\\xbc\\x8e\\xe8\\x96\\x87\\xe6\\x8b\\x89\\xe9\\x9a\\x86\\xe5\\x8a\\xa0 \\xe9\\xa3\\xbe\\xef\\xbc\\x89\\xe5\\x9c\\xa892\\xe6\\xad\\xb2\\xe7\\x9a\\x84\\xe7\\x94\\x9f\\xe6\\x97\\xa5\\xe5\\xae\\xb4\\xe6\\x9c\\x83\\xe4\\xb8\\x8a\\xe5\\xae\\xa3\\xe4\\xbd\\x88\\xef\\xbc\\x8c\\xe5\\xb7\\xb2\\xe7\\xb6\\x93\\xe6\\xb1\\xba\\xe5\\xae\\x9a\\xe5\\xa5\\xbd\\xe8\\x87\\xaa\\xe5\\xb7\\xb1\\xe7\\x9a\\x84\\xe3\\x80\\x8e\\xe5\\xa4\\xa7\\xe9\\x99\\x90\\xe4\\xb9\\x8b\\xe6\\x97\\xa5\\xe3\\x80\\x8f\\xef\\xbc\\x8c\\xe5\\x9b\\xa0\\xe7\\x82\\xba\\xe8\\xba\\xab\\xe9\\xab\\x94\\xe5\\x8f\\x8a\\xe6\\x89\\x80\\xe6\\x9c\\x89\\xe5\\x99\\xa8\\xe5\\xae\\x98\\xe9\\x80\\x90\\xe6\\xbc\\xb8\\xe8\\xa1\\xb0\\xe8\\x80\\x81\\xef\\xbc\\x8c\\xe5\\x93\\xaa\\xe6\\x80\\x95\\xe5\\x8f\\xaa\\xe6\\x98\\xaf\\xe4\\xb8\\x80\\xe4\\xbb\\xb6\\xe5\\x86\\xac\\xe8\\xa1\\xa3\\xe5\\xa4\\x96\\xe5\\xa5\\x97\\xe7\\x9a\\x84\\xe9\\x87\\x8d\\xe9\\x87\\x8f\\xef\\xbc\\x8c\\xe5\\xb9\\xb4\\xe9\\x82\\x81\\xe7\\x9a\\x84\\xe5\\xa5\\xb9\\xe4\\xb9\\x9f\\xe7\\x84\\xa1\\xe6\\xb3\\x95\\xe6\\x89\\xbf\\xe5\\x8f\\x97\\xe3\\x80\\x82\\xe5\\xa5\\xb9\\xe5\\xb8\\x8c\\xe6\\x9c\\x9b\\xe8\\x87\\xaa\\xe5\\xb7\\xb1\\xe8\\x83\\xbd\\xe9\\x81\\xb8\\xe6\\x93\\x87\\xe7\\x94\\x9f\\xe5\\x91\\xbd\\xe5\\x96\\x84\\xe7\\xb5\\x82\\xe3\\x80\\x81\\xe6\\x9c\\x89\\xe5\\xb0\\x8a\\xe5\\x9a\\xb4\\xe5\\x9c\\xb0\\xe6\\xad\\xbb\\xe5\\x8e\\xbb\\xef\\xbc\\x8c\\xe4\\xb8\\xa6\\xe6\\x9c\\x9f\\xe6\\x9c\\x9b\\xe5\\xae\\xb6\\xe4\\xba\\xba\\xe5\\x80\\x91\\xe5\\x8f\\xaf\\xe4\\xbb\\xa5\\xe5\\x81\\x9a\\xe5\\xa5\\xbd\\xe6\\xb2\\x92\\xe6\\x9c\\x89\\xe5\\xa5\\xb9\\xe7\\x9a\\x84\\xe5\\xbf\\x83\\xe7\\x90\\x86\\xe6\\xba\\x96\\xe5\\x82\\x99\\xef\\xbc\\x8c\\xe6\\x89\\x80\\xe6\\x9c\\x89\\xe7\\x9a\\x84\\xe5\\xae\\xb6\\xe4\\xba\\xba\\xe9\\x83\\xbd\\xe7\\x84\\xa1\\xe6\\xb3\\x95\\xe6\\x8e\\xa5\\xe5\\x8f\\x97\\xe9\\x80\\x99\\xe5\\x80\\x8b\\xe6\\x99\\xb4\\xe5\\xa4\\xa9\\xe9\\x9c\\xb9\\xe9\\x9d\\x82\\xe7\\x9a\\x84\\xe6\\xb1\\xba\\xe5\\xae\\x9a\\xef\\xbc\\x8c\\xe5\\xae\\xb6\\xe6\\x97\\x8f\\xe8\\x81\\x9a\\xe6\\x9c\\x83\\xe4\\xb8\\x8d\\xe6\\xad\\xa1\\xe8\\x80\\x8c\\xe6\\x95\\xa3\\xe3\\x80\\x82\\xe5\\xb9\\xb4\\xe8\\xbc\\x95\\xe6\\x99\\x82\\xe7\\x9a\\x84\\xe7\\x91\\xaa\\xe5\\xbe\\xb7\\xe8\\x93\\xae\\xe6\\x98\\xaf\\xe4\\xb8\\x80\\xe5\\x90\\x8d\\xe7\\xa4\\xbe\\xe9\\x81\\x8b\\xe4\\xbb\\xbd\\xe5\\xad\\x90\\xef\\xbc\\x8c\\xe4\\xb9\\x9f\\xe6\\x98\\xaf\\xe5\\xa5\\xb3\\xe6\\xac\\x8a\\xe9\\x81\\x8b\\xe5\\x8b\\x95\\xe7\\x9a\\x84\\xe6\\x94\\xaf\\xe6\\x8c\\x81\\xe8\\x80\\x85\\xef\\xbc\\x8c\\xe5\\xa5\\xb9\\xe5\\xb8\\x8c\\xe6\\x9c\\x9b\\xe5\\xa5\\xb3\\xe5\\x85\\x92\\xe9\\xbb\\x9b\\xe5\\xae\\x89\\xef\\xbc\\x88\\xe6\\xa1\\x91\\xe5\\xbe\\xb7\\xe7\\x90\\xb3\\xef\\xbc\\x8e\\xe6\\xb3\\xa2\\xe5\\xa5\\x88\\xe5\\x85\\x92 \\xe9\\xa3\\xbe\\xef\\xbc\\x89\\xe4\\xbb\\xa5\\xe5\\x8f\\x8a\\xe5\\x85\\xb6\\xe4\\xbb\\x96\\xe5\\xad\\x90\\xe5\\xa5\\xb3\\xe5\\x80\\x91\\xe8\\x83\\xbd\\xe9\\x99\\xaa\\xe5\\xa5\\xb9\\xe8\\xb5\\xb0\\xe9\\x81\\x8e\\xe4\\xba\\xba\\xe7\\x94\\x9f\\xe9\\x81\\x93\\xe8\\xb7\\xaf\\xe7\\x9a\\x84\\xe6\\x9c\\x80\\xe5\\xbe\\x8c\\xe4\\xb8\\x80\\xe6\\xae\\xb5\\xef\\xbc\\x8c\\xe8\\xae\\x93\\xe4\\xbb\\x96\\xe5\\x80\\x91\\xe9\\x83\\xbd\\xe8\\x83\\xbd\\xe6\\x98\\x8e\\xe7\\x99\\xbd\\xef\\xbc\\x8c\\xe8\\x87\\xaa\\xe5\\xb7\\xb1\\xe7\\x9b\\xb4\\xe5\\x88\\xb0\\xe6\\xad\\xbb\\xe5\\x89\\x8d\\xe9\\x83\\xbd\\xe5\\xb0\\x8d\\xe7\\x94\\x9f\\xe5\\x91\\xbd\\xe6\\x87\\xb7\\xe6\\x8a\\xb1\\xe8\\x91\\x97\\xe7\\x86\\xb1\\xe6\\x83\\x85\\xe3\\x80\\x81\\xe6\\x99\\xba\\xe6\\x85\\xa7\\xe8\\x88\\x87\\xe5\\xb0\\x8a\\xe5\\x9a\\xb4\\xef\\xbc\\x8c\\xe9\\x80\\x99\\xe6\\x98\\xaf\\xe5\\xa5\\xb9\\xe7\\xb5\\xa6\\xe5\\xad\\x90\\xe5\\xa5\\xb3\\xe5\\x80\\x91\\xe4\\xb8\\x8a\\xe7\\x9a\\x84\\xe6\\x9c\\x80\\xe5\\xbe\\x8c\\xe4\\xb8\\x80\\xe5\\xa0\\x82\\xe8\\xaa\\xb2\\xe3\\x80\\x82<br /><br />\\xe6\\x9c\\xac\\xe7\\x89\\x87\\xe6\\x94\\xb9\\xe7\\xb7\\xa8\\xe8\\x87\\xaa\\xe9\\x9b\\x84\\xe8\\xb8\\x9e\\xe6\\xb3\\x95\\xe5\\x9c\\x8b\\xe6\\x9a\\xa2\\xe9\\x8a\\xb7\\xe6\\x9b\\xb8\\xe6\\x8e\\x92\\xe8\\xa1\\x8c\\xe6\\xa6\\x9c\\xe7\\x9a\\x84\\xe6\\x9b\\xb8\\xe7\\xb1\\x8d\\xe3\\x80\\x8a\\xe9\\x82\\xa3\\xe5\\xb0\\xb110\\xe6\\x9c\\x8817\\xe6\\x97\\xa5\\xe5\\x90\\xa7\\xef\\xbc\\x81\\xe3\\x80\\x8b\\xef\\xbc\\x8c2002\\xe5\\xb9\\xb4\\xef\\xbc\\x8c\\xe7\\x95\\xb6\\xe6\\x99\\x82\\xe5\\xb7\\xb2\\xe7\\xb6\\x9392\\xe6\\xad\\xb2\\xe7\\x9a\\x84\\xe8\\x9c\\x9c\\xe6\\xb5\\xb7\\xe5\\x85\\x92\\xef\\xbc\\x8e\\xe4\\xb8\\x8d\\xe5\\x83\\x85\\xe6\\x98\\xaf\\xe6\\xb3\\x95\\xe5\\x9c\\x8b\\xe5\\x89\\x8d\\xe7\\xb8\\xbd\\xe7\\x90\\x86\\xe7\\x9a\\x84\\xe6\\x9d\\x8e\\xe6\\xad\\x90\\xe5\\xa5\\x88\\xe7\\x88\\xbe\\xef\\xbc\\x8e\\xe5\\x96\\xac\\xe6\\x96\\xaf\\xe6\\xbd\\x98\\xe7\\x9a\\x84\\xe6\\xaf\\x8d\\xe8\\xa6\\xaa\\xef\\xbc\\x8c\\xe5\\x90\\x8c\\xe6\\x99\\x82\\xe5\\xa5\\xb9\\xe4\\xb9\\x9f\\xe6\\x98\\xaf\\xe7\\x88\\xad\\xe5\\x8f\\x96\\xe6\\xad\\xbb\\xe4\\xba\\xa1\\xe5\\xb0\\x8a\\xe5\\x9a\\xb4\\xe6\\xac\\x8a\\xe5\\x88\\xa9\\xe5\\x8d\\x94\\xe6\\x9c\\x83\\xef\\xbc\\x88\\xe7\\xb0\\xa1\\xe7\\xa8\\xb1ADMD\\xef\\xbc\\x89\\xe7\\x9a\\x84\\xe6\\x88\\x90\\xe5\\x93\\xa1\\xef\\xbc\\x8c\\xe5\\xa5\\xb9\\xe7\\x9a\\x84\\xe6\\xa1\\x88\\xe4\\xbe\\x8b\\xe5\\x9c\\xa8\\xe7\\x95\\xb6\\xe6\\x99\\x82\\xe8\\xbd\\x9f\\xe5\\x8b\\x95\\xe6\\xb3\\x95\\xe5\\x9c\\x8b\\xe7\\xa4\\xbe\\xe6\\x9c\\x83\\xef\\xbc\\x8c\\xe5\\xa5\\xb9\\xe7\\x9a\\x84\\xe5\\xa5\\xb3\\xe5\\x85\\x92\\xe8\\xab\\xbe\\xe6\\x84\\x9b\\xe6\\x8b\\x89\\xef\\xbc\\x8e\\xe5\\xa4\\x8f\\xe7\\x89\\xb9\\xe9\\x9b\\xb7\\xe5\\xb0\\x87\\xe9\\x80\\x99\\xe6\\xae\\xb5\\xe9\\x99\\xaa\\xe4\\xbc\\xb4\\xe6\\xaf\\x8d\\xe8\\xa6\\xaa\\xe7\\x9a\\x84\\xe7\\xb6\\x93\\xe6\\xad\\xb7\\xe5\\xaf\\xab\\xe6\\x88\\x90\\xe8\\x87\\xaa\\xe5\\x82\\xb3\\xe4\\xb8\\xa6\\xe5\\x87\\xba\\xe7\\x89\\x88\\xef\\xbc\\x8c\\xe6\\x84\\x9f\\xe5\\x8b\\x95\\xe5\\x8d\\x83\\xe8\\x90\\xac\\xe4\\xba\\xba\\xe3\\x80\\x82\\xe7\\xbe\\x8e\\xe5\\x9c\\x8b\\xe5\\x9c\\xa81990\\xe5\\xb9\\xb4\\xe9\\x80\\x9a\\xe9\\x81\\x8e\\xe3\\x80\\x8c\\xe7\\x97\\x85\\xe4\\xba\\xba\\xe8\\x87\\xaa\\xe4\\xb8\\xbb\\xe6\\xb3\\x95\\xe3\\x80\\x8d(Patient Self-Determination Act)\\xef\\xbc\\x8c\\xe5\\x8f\\xb0\\xe7\\x81\\xa3\\xe7\\xab\\x8b\\xe6\\xb3\\x95\\xe9\\x99\\xa2\\xe5\\x89\\x87\\xe5\\x9c\\xa8\\xe5\\x8e\\xbb\\xe5\\xb9\\xb4\\xe4\\xb8\\x89\\xe8\\xae\\x80\\xe9\\x80\\x9a\\xe9\\x81\\x8e\\xe7\\x97\\x85\\xe4\\xba\\xba\\xe8\\x87\\xaa\\xe4\\xb8\\xbb\\xe6\\xac\\x8a\\xe5\\x88\\xa9\\xe6\\xb3\\x95\\xef\\xbc\\x8c\\xe4\\xba\\x94\\xe7\\xa8\\xae\\xe9\\xa1\\x9e\\xe5\\x9e\\x8b\\xe7\\x97\\x85\\xe4\\xba\\xba\\xe5\\x8f\\xaf\\xe9\\x80\\x8f\\xe9\\x81\\x8e\\xe9\\xa0\\x90\\xe7\\xab\\x8b\\xe7\\x9a\\x84\\xe9\\x86\\xab\\xe7\\x99\\x82\\xe6\\xb1\\xba\\xe5\\xae\\x9a\\xef\\xbc\\x8c\\xe6\\xb1\\xba\\xe5\\xae\\x9a\\xe8\\x87\\xaa\\xe5\\xb7\\xb1\\xe5\\x9c\\xa8\\xe7\\x89\\xb9\\xe5\\xae\\x9a\\xe9\\x86\\xab\\xe7\\x99\\x82\\xe6\\x83\\x85\\xe5\\xa2\\x83\\xe4\\xb8\\x8b\\xe6\\x98\\xaf\\xe5\\x90\\xa6\\xe6\\x8e\\xa5\\xe5\\x8f\\x97\\xe6\\xb2\\xbb\\xe7\\x99\\x82\\xe3\\x80\\x82\\xe5\\x8f\\xb0\\xe7\\x81\\xa3\\xe5\\x9c\\xa81993\\xe5\\xb9\\xb4\\xe6\\xad\\xa3\\xe5\\xbc\\x8f\\xe9\\x80\\xb2\\xe5\\x85\\xa5\\xe3\\x80\\x8c\\xe9\\xab\\x98\\xe9\\xbd\\xa1\\xe5\\x8c\\x96\\xe7\\xa4\\xbe\\xe6\\x9c\\x83\\xe3\\x80\\x8d\\xef\\xbc\\x8c\\xe7\\x94\\x9f\\xe5\\x91\\xbd\\xe5\\x96\\x84\\xe7\\xb5\\x82\\xe7\\x9a\\x84\\xe8\\xad\\xb0\\xe9\\xa1\\x8c\\xe5\\xb0\\x87\\xe6\\x98\\xaf\\xe5\\x8f\\xb0\\xe7\\x81\\xa3\\xe6\\x80\\xa5\\xe9\\x9c\\x80\\xe8\\xa8\\x8e\\xe8\\xab\\x96\\xe7\\x9a\\x84\\xe9\\x87\\x8d\\xe8\\xa6\\x81\\xe8\\xaa\\xb2\\xe9\\xa1\\x8c\\xe3\\x80\\x82<p><span class=\"date\">\\xe6\\x9b\\xb4\\xe6\\x96\\xb0\\xe6\\x97\\xa5\\xe6\\x9c\\x9f\\xef\\xbc\\x9a2016-05-04</span></p></p></div><div class=\"text\"><p>\\xe9\\x80\\x99\\xe6\\x98\\xaf\\xe6\\x9c\\x80\\xe5\\xbe\\x8c\\xe7\\x9a\\x84\\xe4\\xb8\\x80\\xe5\\x80\\x8b\\xe7\\xa6\\xae\\xe7\\x89\\xa9\\xef\\xbc\\x8c\\xe4\\xb8\\x80\\xe4\\xbb\\xbd\\xe6\\xb0\\xb8\\xe4\\xb8\\x8d\\xe6\\xad\\xa2\\xe6\\x81\\xaf\\xe7\\x9a\\x84\\xe6\\x84\\x9b\\xe2\\x80\\xa6\\xe2\\x80\\xa6 \\xe4\\xb8\\x80\\xe5\\x90\\x91\\xe6\\xa8\\x82\\xe8\\xa7\\x80\\xe7\\x9a\\x84\\xe7\\x91\\xaa\\xe5\\xbe\\xb7\\xe8\\x93\\xae\\xef\\xbc\\x88\\xe7\\x91\\xaa\\xe8\\x92\\x82\\xef\\xbc\\x8e\\xe8\\x96\\x87\\xe6\\x8b\\x89\\xe9\\x9a\\x86\\xe5\\x8a\\xa0 \\xe9\\xa3\\xbe\\xef\\xbc\\x89\\xe5\\x9c\\xa892\\xe6\\xad\\xb2\\xe7\\x9a\\x84\\xe7\\x94\\x9f\\xe6\\x97\\xa5\\xe5\\xae\\xb4\\xe6\\x9c\\x83\\xe4\\xb8\\x8a\\xe5\\xae\\xa3\\xe4\\xbd\\x88\\xef\\xbc\\x8c\\xe5\\xb7\\xb2\\xe7\\xb6\\x93\\xe6\\xb1\\xba\\xe5\\xae\\x9a\\xe5\\xa5\\xbd\\xe8\\x87\\xaa\\xe5\\xb7\\xb1\\xe7\\x9a\\x84\\xe3\\x80\\x8e\\xe5\\xa4\\xa7\\xe9\\x99\\x90\\xe4\\xb9\\x8b\\xe6\\x97\\xa5\\xe3\\x80\\x8f\\xef\\xbc\\x8c\\xe5\\x9b\\xa0\\xe7\\x82\\xba\\xe8\\xba\\xab\\xe9\\xab\\x94\\xe5\\x8f\\x8a\\xe6\\x89\\x80\\xe6\\x9c\\x89\\xe5\\x99\\xa8\\xe5\\xae\\x98\\xe9\\x80\\x90\\xe6\\xbc\\xb8\\xe8\\xa1\\xb0\\xe8\\x80\\x81\\xef\\xbc\\x8c\\xe5\\x93\\xaa\\xe6\\x80\\x95\\xe5\\x8f\\xaa\\xe6\\x98\\xaf\\xe4\\xb8\\x80\\xe4\\xbb\\xb6\\xe5\\x86\\xac\\xe8\\xa1\\xa3\\xe5\\xa4\\x96\\xe5\\xa5\\x97\\xe7\\x9a\\x84\\xe9\\x87\\x8d\\xe9\\x87\\x8f\\xef\\xbc\\x8c\\xe5\\xb9\\xb4\\xe9\\x82\\x81\\xe7\\x9a\\x84\\xe5\\xa5\\xb9\\xe4\\xb9\\x9f\\xe7\\x84\\xa1\\xe6\\xb3\\x95\\xe6\\x89\\xbf\\xe5\\x8f\\x97\\xe3\\x80\\x82\\xe5\\xa5\\xb9\\xe5\\xb8\\x8c\\xe6\\x9c\\x9b\\xe8\\x87\\xaa\\xe5\\xb7\\xb1\\xe8\\x83\\xbd\\xe9\\x81\\xb8\\xe6\\x93\\x87\\xe7\\x94\\x9f\\xe5\\x91\\xbd\\xe5\\x96\\x84\\xe7\\xb5\\x82\\xe3\\x80\\x81\\xe6\\x9c\\x89\\xe5\\xb0\\x8a\\xe5\\x9a\\xb4\\xe5\\x9c\\xb0\\xe6\\xad\\xbb\\xe5\\x8e\\xbb\\xef\\xbc\\x8c\\xe4\\xb8\\xa6\\xe6\\x9c\\x9f\\xe6\\x9c\\x9b\\xe5\\xae\\xb6\\xe4\\xba\\xba\\xe5\\x80\\x91\\xe5\\x8f\\xaf\\xe4\\xbb\\xa5\\xe5\\x81\\x9a\\xe5\\xa5\\xbd\\xe6\\xb2\\x92\\xe6\\x9c\\x89\\xe5\\xa5\\xb9\\xe7\\x9a\\x84\\xe5\\xbf\\x83\\xe7\\x90\\x86\\xe6\\xba\\x96\\xe5\\x82\\x99\\xef\\xbc\\x8c\\xe6\\x89\\x80\\xe6\\x9c\\x89\\xe7\\x9a\\x84\\xe5\\xae\\xb6\\xe4\\xba\\xba\\xe9\\x83\\xbd\\xe7\\x84\\xa1\\xe6\\xb3\\x95\\xe6\\x8e\\xa5\\xe5\\x8f\\x97\\xe9\\x80\\x99<ins>...<a href=\"javascript:{};\" hpp=\"thisweek-guide\">\\xe8\\xa9\\xb3\\xe5\\x85\\xa8\\xe6\\x96\\x87</a></ins><div class=\"ext\"><a href=\"javascript:{};\">\\xe5\\xb1\\x95\\xe9\\x96\\x8b\\xe5\\x8a\\x87\\xe6\\x83\\x85\\xe7\\xb0\\xa1\\xe4\\xbb\\x8b</a></div></p></div> </div>\\n </div>\\n </div>\\n <div class=\"ft\">\\n <div><!--footer--></div>\\n </div>\\n</div>\\n<!--(end) inc-story.jake -->\\n<!--(begin) inc-related.jake -->\\n<div id=\"ymvr\" class=\"ymvmodule\">\\n <div class=\"bd\">\\n <div class=\"bd-container\">\\n \\n<!--(end) inc-related.jake -->\\n </div>\\n </div>\\n <div class=\"ft\">\\n <div><!--footer--></div>\\n </div>\\n</div>\\n </div>\\n </div>\\n <div id=\"yui-side\" class=\"yui-b\">\\n \\n<!--(begin) inc-ad_lrec.jake -->\\n<div id=\"ymvadl\"><!-- SpaceID=0 robot -->\\n</div><!--(end) inc-ad_lrec.jake -->\\n \\n<!--(begin) inc-ad_tbar.jake -->\\n<div id=\"ymvadr\">\\n\\t<div class=\"bd\">\\n\\t\\t<div>\\n<!-- SpaceID=0 robot -->\\n\\t\\t</div>\\n\\t</div>\\n</div>\\n<!--(end) inc-ad_tbar.jake -->\\n<!--(begin) inc-mlist_recent.jake -->\\n<!--(end) inc-mlist_recent.jake -->\\n </div>\\n </div>\\n <div id=\"ft\">\\n \\n<!--(begin) inc-footer.jake -->\\n\\n<div id=\"yhtw_mastfoot\" class=\"fix950\">\\n <!--<div class=\"mfcp\">\\xe9\\x9b\\x85\\xe8\\x99\\x8e\\xe8\\xb3\\x87\\xe8\\xa8\\x8a&nbsp;&nbsp;\\xe7\\x89\\x88\\xe6\\xac\\x8a\\xe6\\x89\\x80\\xe6\\x9c\\x89 &copy; 2016 Yahoo!Taiwan All Rights Reserved.</div>\\n-->\\n <div class=\"mflink\"><a href=\"https://tw.yahoo.com/info/utos.html\">\\xe6\\x9c\\x8d\\xe5\\x8b\\x99\\xe6\\xa2\\x9d\\xe6\\xac\\xbe</a>|<a href=\"https://info.yahoo.com/privacy/tw/yahoo/\">\\xe9\\x9a\\xb1\\xe7\\xa7\\x81\\xe6\\xac\\x8a</a></div>\\n</div><!-- SpaceID=0 robot -->\\n<!--(end) inc-footer.jake -->\\n </div>\\n </div>\\n<!--(begin) inc-after_body.jake -->\\n</body>\\n<script type=\"text/javascript\" src=\"https://s.yimg.com/ji/movies/i6/ymvbottom_min.js\"></script>\\n<!--<script type=\"text/javascript\" src=\"https://s.yimg.com/lh/mbz/loader-min.js\"></script>-->\\n<script type=\"text/javascript\" src=\"https://s.yimg.com/f/i/tw/movie/i6/loader_min.js\"></script>\\n<!-- Begin comScore Tag -->\\n<script>\\n var _comscore = _comscore || [];\\n _comscore.push({\\n c1: \"2\",\\n c2: \"7241469\",\\n c5: \"152965872\",\\n c7: \"https%3A%2F%2Ftw.movies.yahoo.com%2Fmovieinfo_main.html%2Fid%3D6192\"\\n });\\n (function() {\\n var s = document.createElement(\"script\"), el = document.getElementsByTagName(\"script\")[0]; s.async = true;\\n s.src = (document.location.protocol == \"https:\" ? \"https://s.yimg.com/lq\" : \"http://l.yimg.com/d\") + \"/lib/3pm/cs_0.2.js\";\\n el.parentNode.insertBefore(s, el);\\n })();\\n</script>\\n<noscript><img src=\"https://sb.scorecardresearch.com/p?c1=2&c2=7241469&c7=https%3A%2F%2Ftw.movies.yahoo.com%2Fmovieinfo_main.html%2Fid%3D6192&c5=152965872&cv=2.0&cj=1\" width=\"1\" height=\"1\" alt=\"\"/></noscript>\\n<!-- End comScore Tag -->\\n</html><!--(end) inc-after_body.jake -->\\n\\n<!-- fe202.movies.tp2.yahoo.com Fri May  6 15:09:01 CST 2016 -->\\n'\n"
     ]
    }
   ],
   "source": [
    "print(date)"
   ]
  },
  {
   "cell_type": "code",
   "execution_count": 9,
   "metadata": {
    "collapsed": false
   },
   "outputs": [
    {
     "name": "stdout",
     "output_type": "stream",
     "text": [
      "200\n"
     ]
    }
   ],
   "source": [
    "print(conn.status)"
   ]
  },
  {
   "cell_type": "code",
   "execution_count": 10,
   "metadata": {
    "collapsed": false
   },
   "outputs": [
    {
     "name": "stdout",
     "output_type": "stream",
     "text": [
      "text/html; charset=UTF-8\n"
     ]
    }
   ],
   "source": [
    "print(conn.getheader('Content-Type'))"
   ]
  },
  {
   "cell_type": "code",
   "execution_count": 11,
   "metadata": {
    "collapsed": false
   },
   "outputs": [
    {
     "name": "stdout",
     "output_type": "stream",
     "text": [
      "Date Fri, 06 May 2016 07:09:01 GMT\n",
      "P3P policyref=\"https://policies.yahoo.com/w3c/p3p.xml\", CP=\"CAO DSP COR CUR ADM DEV TAI PSA PSD IVAi IVDi CONi TELo OTPi OUR DELi SAMi OTRi UNRi PUBi IND PHY ONL UNI PUR FIN COM NAV INT DEM CNT STA POL HEA PRE LOC GOV\"\n",
      "Set-Cookie tw_movieRVV=d=oYfalqgwIgIY.PGPn8muIDFZfGLrtxuHdIJMJA6VLw4caA--&v=1; expires=Sun, 05-Jun-2016 07:09:01 GMT; path=/; domain=tw.movies.yahoo.com\n",
      "Cache-Control private\n",
      "x-frame-options SAMEORIGIN\n",
      "Vary Accept-Encoding\n",
      "Content-Type text/html; charset=UTF-8\n",
      "Age 2\n",
      "Transfer-Encoding chunked\n",
      "Connection close\n",
      "Server ATS\n"
     ]
    }
   ],
   "source": [
    "for key, value in conn.getheaders():\n",
    "    print(key,value)"
   ]
  },
  {
   "cell_type": "code",
   "execution_count": 12,
   "metadata": {
    "collapsed": true
   },
   "outputs": [],
   "source": [
    "import requests\n",
    "url ='https://tw.movies.yahoo.com/movieinfo_main.html/id=6192'\n",
    "res = requests.get(url)"
   ]
  },
  {
   "cell_type": "code",
   "execution_count": 13,
   "metadata": {
    "collapsed": false
   },
   "outputs": [
    {
     "data": {
      "text/plain": [
       "<Response [200]>"
      ]
     },
     "execution_count": 13,
     "metadata": {},
     "output_type": "execute_result"
    }
   ],
   "source": [
    "res"
   ]
  },
  {
   "cell_type": "code",
   "execution_count": 14,
   "metadata": {
    "collapsed": false
   },
   "outputs": [
    {
     "name": "stdout",
     "output_type": "stream",
     "text": [
      "<!doctype html public \"-//w3c//dtd html 4.01//en\" \"http://www.w3.org/tr/html4/strict.dtd\"> \n",
      "<html lang=\"zh-tw\" xmlns:og=\"http://ogp.me/ns#\" xmlns:fb=\"http://www.facebook.com/2008/fbml\">\n",
      "<head>\n",
      " <title>最後一堂課 The Final Lesson - Yahoo奇摩電影</title><meta name=\"description\" lang=\"zh-Hant-TW\" content=\"提供本片劇情介紹、導演、演員、精彩劇照、預告片、查看網友短評、期待度、滿意度、查詢電影時刻表與線上訂票。\" /><meta name=\"keywords\" lang=\"zh-Hant-TW\" content=\"電影, yahoo奇摩電影, 時刻表, 新片, 預告片, 網友滿意榜, yahoo 電影, 劇照, 線上訂票, 票房, 台北票房, 全美票房, 排行榜, 戲院, 影城, 片名, 電視, 熱映中, 本週新片, 海報, 滿意度, 期待度, 短評, 網友短評, 評論\" /><meta property=\"og:description\" content=\"提供本片劇情介紹、導演、演員、精彩劇照、預告片、查看網友短評、期待度、滿意度、查詢電影時刻表與線上訂票。\" /><meta property=\"og:image\" content=\"https://s.yimg.com/vu/movies/fp/mpost/61/92/6192.jpg\" /><meta property=\"og:image:secure_url\" content=\"https://s.yimg.com/vu/movies/fp/mpost2/61/92/6192.jpg\" /><meta property=\"fb:app_id\" content=\"501887343352051\" /><meta property=\"og:site_name\" content=\"Yahoo奇摩電影\" /><meta property=\"og:title\" content=\"最後一堂課 The Final Lesson - Yahoo奇摩電影\" /><meta property=\"og:type\" content=\"website\" /><meta property=\"og:url\" content=\"https://tw.movies.yahoo.com/movieinfo_main.html/id=6192\" /><meta http-equiv=\"content-type\" content=\"text/html; charset=utf-8\">\n",
      "<meta name=\"msvalidate.01\" content=\"AEF4DC855815A1129E59BF2ED9F34F0D\" />\n",
      "<meta name=\"google-site-verification\" content=\"AoSiKxZVV9aX6RFurgPqG1kZ1VvLqznI74wJDjSp3fY\" />\n",
      "<!-- change# start -->\n",
      "<link rel=\"stylesheet\" type=\"text/css\" href=\"https://s.yimg.com/f/i/tw/movie/i6/ymv_1_51_min.css\" media=\"screen\" />\n",
      "<link rel=\"stylesheet\" type=\"text/css\" href=\"https://s.yimg.com/f/i/tw/movie/i6/ymv_print.css\" media=\"print\" />\n",
      "<link rel=\"stylesheet\" type=\"text/css\" href=\"https://s.yimg.com/f/i/tw/hp/Universal_header/uh_bt3.css\" />\n",
      "<!--<script type=\"text/javascript\" src=\"https://s.yimg.com/zz/combo?yui-s:3.6.0/yui/yui-min.js\"></script>-->\n",
      "<script src=\"https://yui-s.yahooapis.com/combo?3.6.0/yui/yui-min.js\"></script>\n",
      "<script type=\"text/javascript\" src=\"https://s.yimg.com/f/i/tw/movie/i6/ymv_1_52_min.js?20140228\"></script>\n",
      "<script>\n",
      "YUI({\n",
      " comboBase: 'https://s.yimg.com/zz/combo?',\n",
      " combine: true,\n",
      " root: 'yui-s:' + YUI.version + '/'\n",
      "}).use('node', function(Y) {\n",
      "});\n",
      "</script>\n",
      "<!-- change# end -->\n",
      " \n",
      "</head>\n",
      " <body class=\"movieinfo_main\"> <div id=\"doc\" class=\"yui-t6\">\n",
      " <div id=\"hd\">\n",
      "<!--(begin) inc-universal_header.jake -->\n",
      "<style>\n",
      "#ygma{position:relative;z-index:2;}\n",
      ".schmve{position:absolute;top:56px;left:330px;z-index:200;height:46px}\n",
      "#ygma a,#ygma a:hover,#ygma a:visited{color:#fff;}\n",
      "#ygma #yuhead-bd{padding-bottom:6px;}\n",
      "</style>\n",
      "<div id=\"ygma\" class=\"fix950\">\n",
      "<link type='text/css' rel='stylesheet' href='https://s.yimg.com/zz/combo?kx/yucs/uh2/uh/295/css/yunivhead-min.css&kx/yucs/uh2/uh/295/css/logo-min.css&kx/ucs/avatar/css/17/avatar-min.css&kx/yucs/uh2/mail-link/85/css/mailcount_v2-min.css&kx/yucs/uh2/mail-link/85/css/mail_preview-min.css&kx/ucs/search/css/190/search_all-min.css&kx/ucs/search/css/190/search_buttons-min.css&kx/yucs/uh2/uh/295/css/yunivhead_https-min.css&kx/yucs/uh_common/meta/3/css/meta-min.css' /><style>/* customizable */\r\n",
      "#yUnivHead .yuhead-bullet-down{background-position:right -119px;}\r\n",
      "\r\n",
      "/* font color */\r\n",
      "#yUnivHead {color:#fff;}\r\n",
      "#yUnivHead a{color:#fff;}\r\n",
      "#yUnivHead a:hover{color:#fff;}\r\n",
      "\r\n",
      "#yuhead-hd #yuhead-mepanel-cont #yuhead-mepanel li.yuhead-me{border-color:#fff;}\r\n",
      "#yuhead-hd #yuhead-com-links-cont #yuhead-com-links li.yuhead-com-link-item{border-color:#fff;}\r\n",
      ".yuhead-logo h2 a{color:#fff;}\r\n",
      "\r\n",
      "/* promo color */\r\n",
      "#yUnivHead #yuhead-promo .yucs-promo-label{color:#fff;}\r\n",
      "#yUnivHead #yuhead-promo a{color:#fff;}\r\n",
      "#yUnivHead #yuhead-promo a:hover{color:#fff;}\r\n",
      "\r\n",
      "/* background, border, gradients */\r\n",
      "#yUnivHead {\r\n",
      "    background:transparent;\r\n",
      "}\r\n",
      "/* trending promo background - match to header top background */\r\n",
      "#yUnivHead .yucs-trending-anim .yucs-trending-anim-fade {\r\n",
      "\tbackground:transparent;\r\n",
      "}\r\n",
      "/*logos*/\r\n",
      "#yUnivHead .yuhead-logo h2 {background-position:-350px top;}\n",
      "  #yUnivHead.yucs-en-au .yuhead-logo h2 {background-position:0px -120px;}\n",
      "  #yUnivHead.yucs-en-nz .yuhead-logo h2 {background-position:0px -120px;}\r\n",
      "#yUnivHead .yuhead-logo h2.small {background-position:0px -360px;}</style><div id=\"yUnivHead\" class=\"yucs-zh-hant-tw\" data-lang=\"zh-hant-tw\" data-property=\"movies\" data-flight=\"1462518941\" data-uhvc=\"/\"> <div id=\"yucs-disclaimer\" class=\"yucs-disclaimer yucs-activate yucs-hide yucs-property-movies yucs-fcb- \" data-cobrand=\"standard\" data-cu = \"0\" data-dsstext=\"想要享受更好的搜尋體驗嗎？ {dssLink}將您的搜尋設為 Yahoo奇摩{linkEnd}\" data-dsstext-mobile=\"更少的搜尋動作，更多的搜尋結果\" data-dsstext-mobile-ok=\"確定\" data-dsstext-mobile-set-search=\"將您的搜尋設定為 Yahoo。\" data-dssstbtext=\"Yahoo is the preferred search engine for Firefox. Switch now.\" data-dssstb-ok=\"Yes\" data-dssstb-no=\"Not Now\" data-ylt-link=\"https://tw.search.yahoo.com/searchset?pn=\" data-ylt-dssbarclose=\"/\" data-ylt-dssbaropen=\"/\" data-ylt-dssstb-link=\"https://downloads.yahoo.com/sp-firefox\" data-ylt-dssstbbarclose=\"/\" data-ylt-dssstbbaropen=\"/\" data-ylt-dssCookieCleanedSuccess=\"/\" data-ylt-dssCookieCleanedFailed=\"/\" data-linktarget=\"_top\" data-lang=\"zh-hant-tw\" data-property=\"movies\" data-device=\"Desktop\" data-close-txt=\"關閉此視窗\" data-maybelater-txt = \"稍後再說\" data-killswitch = \"0\" data-host=\"tw.movies.yahoo.com\" data-spaceid=\"\" data-pn=\"\" data-dss-cookie-cleanup=\"\" data-pn-en-ca-mobile-frontpage=\"\" data-pn-de-de-mobile-frontpage=\"\" data-pn-es-es-mobile-frontpage=\"\" data-pn-fr-fr-mobile-frontpage=\"\" data-pn-en-in-mobile-frontpage=\"\" data-pn-it-it-mobile-frontpage=\"\" data-pn-en-us-mobile-frontpage=\"\" data-pn-en-sg-mobile-frontpage=\"\" data-pn-en-gb-mobile-frontpage=\"\" data-pn-en-us-mobile-mail=\"\" data-pn-en-ca-mobile-mail=\"\" data-pn-de-de-mobile-mail=\"\" data-pn-es-es-mobile-mail=\"\" data-pn-fr-fr-mobile-mail=\"\" data-pn-en-in-mobile-mail=\"\" data-pn-it-it-mobile-mail=\"\" data-pn-en-sg-mobile-mail=\"\" data-pn-en-gb-mobile-mail=\"\" data-pn-pt-br-mobile-mail=\"\" data-pn-en-us-tablet-frontpage=\"\" data-pn-en-us-tablet-mail=\"\" data-pn-en-ca-tablet-mail=\"\" data-pn-de-de-tablet-mail=\"\" data-pn-es-es-tablet-mail=\"\" data-pn-fr-fr-tablet-mail=\"\" data-pn-en-in-tablet-mail=\"\" data-pn-it-it-tablet-mail=\"\" data-pn-en-sg-tablet-mail=\"\" data-pn-en-gb-tablet-mail=\"\" data-pn-pt-br-tablet-mail=\"\" data-news-search-yahoo-com=\"\" data-answers-search-yahoo-com=\"\" data-finance-search-yahoo-com=\"\" data-images-search-yahoo-com=\"\" data-video-search-yahoo-com=\"\" data-sports-search-yahoo-com=\"\" data-shopping-search-yahoo-com=\"\" data-shopping-yahoo-com=\"\" data-us-qa-trunk-news-search-yahoo-com =\"\" data-dss=\"\"></div>    <a href=\"#yuhead-search\" class=\"yucs-skipto-search yucs-activate\">跳至搜尋欄。</a>  <div id=\"yuhead-hd\" class=\"yuhead-clearfix\"> <div id=\"yuhead-mepanel-cont\"> <ul id=\"yuhead-mepanel\" class=\"yucs-toolbar yucs-activate\" aria-label=\"用戶服務\"><li class=\"yuhead-me yuhead-nodivide yuhead-nopad\"> <a class=\"yuhead-signup\" href=\"https://edit.yahoo.com/config/eval_register?.src=mov&.intl=tw&.lang=zh-Hant-TW&.done=https://tw.movies.yahoo.com/movieinfo_main.html/id=6192\" target=\"_top\" rel=\"nofollow\"> <em>是新用戶嗎？</em> 請註冊</a></li><li class=\"yuhead-me\"> <a href=\"https://login.yahoo.com/config/login?.src=mov&.intl=tw&.lang=zh-Hant-TW&.done=https://tw.movies.yahoo.com/movieinfo_main.html/id=6192\" target=\"_top\" rel=\"nofollow\"> <em>登入</em></a></li><li class=\"yuhead-me\"><a href=\"http://tw.help.cc.yahoo.com/?product=movie\" rel=\"nofollow\" target=\"_top\">服務說明</a></li></ul>   </div> <div id=\"yuhead-promo\"><a style=\"font-weight:bold;\"href=\"http://tw.overview.mail.yahoo.com/\" target=\"_top\" rel=\"nofollow\">Download the new Yahoo Mail app</a></div> <div id=\"yuhead-com-links-cont\"> <ul id=\"yuhead-com-links\" class=\"yucs-toolbar yucs-activate\" aria-label=\"Yahoo 奇摩服務總覽\">  <li class=\"yuhead-com-link-item yucs-mailpreview-ancestor\"> <a class=\"sp yltasis yuhead-ico-mail\" href=\"https://tw.mail.yahoo.com/?.intl=tw&.lang=zh-Hant-TW\" rel=\"nofollow\" target=\"_top\">信箱</a><ul class=\"yucs-mail-preview-panel hide\" data-uri-scheme=\"http\" data-uri-path=\"ucs.query.yahoo.com/v1/console/yql\" data-mail-txt=\"信箱\" data-mail-view=\"檢視所有 Yahoo 信件\" data-mail-help-txt=\"服務說明\" data-mail-help-url=\"http://help.cc.tw.yahoo.com/help_cp.html?product=29\" data-mail-loading-txt=\"載入中...\" data-languagetag=\"zh-hant-tw\" data-mrd-crumb=\"\" data-authstate=\"signedout\" data-middleauth-signin-text=\"點選這裡檢視您的信件\" data-popup-login-url=\"https://login.yahoo.com/config/login_verify2?.pd=c%3DOIVaOGq62e5hAP8Tv..nr5E3&.src=sc\" data-middleauthtext=\"你有 {count} 封新信。\" data-yltmessage-link=\"http://mrd.mail.yahoo.com/msg?mid={msgID}&fid=Inbox&src=uh&.crumb=\" data-yltviewall-link=\"https://tw.mail.yahoo.com/\" data-yltpanelshown=\"/\"></ul></li><li class=\"yuhead-com-link-item\"> <a href=\"http://tw.bid.yahoo.com/\" rel=\"nofollow\" target=\"_top\"> 拍賣 </a></li><li id=\"yuhead-com-home\"><a class=\"sp yuhead-ico-home\" href=\"https://tw.yahoo.com/\" rel=\"nofollow\" target=\"_top\">Yahoo 奇摩</a></li> </ul> </div> </div> <div id=\"yuhead-bd\" class=\"yuhead-clearfix\"> <div class=\"yuhead-logo\"> <style> .yuhead-logo h2{ width:350px; height:58px; background-image:url(https://s.yimg.com/rz/d/yahoo_movies_zh-Hant-TW_s_f_pw_351x40_movies.png\n",
      "); _background-image:url(https://s.yimg.com/rz/d/yahoo_movies_zh-Hant-TW_s_f_pw_351x40_movies.gif\n",
      "); } .yuhead-logo a{ width:350px; height:58px; } .yuhead-logo div.yuhead-comarketing { width:350px; } .yog-tablet #yUnivHead h2 { background-position: -350px 5px !important; } html[lang='en-AU'] .yog-tablet #yUnivHead .yuhead-logo h2 { background-position: -350px 5px !important; } html[lang='en-NZ'] .yog-tablet #yUnivHead .yuhead-logo h2 { background-position: -350px 5px !important; } .yog-smartphone #yUnivHead h2 { background-position: -265px 0; background-size: 534px; margin-left: 26%; } .yog-tablet .yuhead-logo h2{ background-repeat: repeat-x; } .yog-tablet.yog-version-v2 #yUnivHead h2 { background-position: center !important; } .yog-tablet #yUnivHead .yuhead-logo h2 { height: 40px !important; } .yog-rtl.yog-smartphone #yUnivHead .yuhead-logo h2 { background-position: -352px 0; !important; background-size: 536px !important; margin-left: 30% !important; } html[lang='ar'] .yog-rtl.yog-smartphone #yUnivHead .yuhead-logo h2 { background-position: -386px 0; !important; } .yog-smartphone #yUnivHead h2.yuhead-music { background-position: 0 0 !important; width: 260px !important; } html[lang='en-US'] .yog-smartphone #yUnivHead h2 { background-size: auto 21px !important; background-position: -350px 0; } html[lang='pt-BR'] .yog-smartphone #yUnivHead h2.yuhead-sports { background-position: -265px 0 !important; background-size: 534px; margin-left: 17%; } html[lang='ar'] .yog-smartphone #yUnivHead h2.yuhead-omg { background-position: -383px 0 !important; background-size: 605px; margin-left: 0; width: auto; } html[lang='en-PH'] .yog-tablet #yUnivHead .yuhead-logo h2 { height: 47px !important; } html[lang='en-PH'] .yog-smartphone #yUnivHead h2 { width: 255px; } </style> <h2 class=\"yuhead-movies yuhead-standard\"> <a href=\"https://tw.movies.yahoo.com/\" target=\"_top\" tabindex=\"-1\"> Yahoo 電影 </a> </h2> <div id=\"yucs-disclaimer-md\" class=\"yucs-disclaimer-md yucs-activate yucs-hide Desktop  yucs-property-movies yucs-fcb-\" data-dsstext=\"想要享受更好的搜尋體驗嗎？ {dssLink}將您的搜尋設為 Yahoo奇摩{linkEnd}\" data-dsstext-mobile=\"更少的搜尋動作，更多的搜尋結果\" data-dsstext-mobile-ok=\"確定\" data-dsstext-mobile-set-search=\"將您的搜尋設定為 Yahoo。\" data-ylt-link=\"https://tw.search.yahoo.com/searchset?pn=\" data-ylt-dssbarclose=\"/\" data-ylt-dssbaropen=\"/\" data-linktarget=\"_top\" data-lang=\"zh-hant-tw\" data-property=\"movies\" data-device=\"Desktop\" data-close-txt=\"關閉此視窗\" data-maybelater-txt = \"稍後再說\" data-killswitch = \"0\" data-dss=\"\"></div><script typ=\"text/javascript\" src=\"https://s.yimg.com/kx/yucs/uh3/disclaimer/274/js/disclaimer_seed-min.js\"></script> </div> <div id=\"yuhead-search\"> <div id=\"yuhead-sform-cont\" class=\"yuhead-s-web yuhead-search-form\"> <form role=\"search\" class=\"yucs-search yucs-activate\" target=\"_top\" action=\"https://tw.search.yahoo.com/search\" method=\"get\"><table role=\"presentation\"> <tbody role=\"presentation\"><tr role=\"presentation\"><td class=\"yucs-form-input\" role=\"presentation\"> <label for=\"yuhead-sform-searchfield\"> <span>搜尋</span> </label> <input autocomplete=\"off\" type=\"text\" class=\"sp yuhead-ico-mglass yuhead-search-hint yucs-search-field\" name=\"p\" data-sh=\"搜尋\"  data-gosurl=\"\" id=\"yuhead-sform-searchfield\" data-pubid=\"\" /></td><td NOWRAP class=\"yucs-form-btn\" role=\"presentation\"><div class=\"yucs-btn-wrap\"> <button class=\"yucs-sweb-btn\" type=\"submit\">網頁搜尋</button></div> </td> </tr> </tbody></table><input type=\"hidden\" id=\"fr\" name=\"fr\" value=\"ush-movies\" /></form> </div> </div>  </div>               <!-- meta --><div id=\"yucs-meta\" data-authstate=\"signedout\" data-cobrand=\"standard\" data-crumb=\"\" data-mc-crumb=\"\" data-gta=\"\" data-device=\"desktop\" data-experience=\"\" data-firstname=\"\" data-style=\"\" data-flight=\"1462518941\" data-forcecobrand=\"standard\" data-guid=\"\" data-host=\"tw.movies.yahoo.com\" data-https=\"1\" data-languagetag=\"zh-hant-tw\" data-property=\"movies\" data-protocol=\"https\" data-shortfirstname=\"\" data-shortuserid=\"\" data-status=\"active\" data-spaceid=\"\" data-test_id=\"\" data-userid=\"\" data-stickyheader=\"true\" data-headercollapse=\"\" data-uh-test=\"\" ></div><!-- /meta --></div><script type=\"text/javascript\" charset=\"utf-8\"> YUI().use('node','event','event-mouseenter','substitute','oop','node-focusmanager','node','event','substitute','cookie','event-resize','node', 'event', 'querystring-stringify','node','event','node','event','event-custom','event-valuechange','classnamemanager','node', function(Y) {});</script><script charset='utf-8' type='text/javascript' src='https://s.yimg.com/zz/combo?kx/ucs/common/js/140/setup-min.js&kx/ucs/sts/js/442/skip-min.js&kx/yucs/uh2/uh/295/js/timestamp_library-min.js&kx/ucs/menu_utils/js/164/menu_utils_v2-min.js&kx/yucs/uh2/uh/295/js/aria_toolbar-min.js&kx/ucs/username/js/43/user_menu-min.js&kx/ucs/help/js/41/help_menu-min.js&kx/ucs/utility_link/js/20/utility_menu-min.js&kx/yucs/uh2/uh/295/js/logo_debug-min.js&kx/yucs/uh3/disclaimer/388/js/disclaimer_seed-min.js&kx/ucs/common/js/131/jsonp-super-cached-min.js&kx/ucs/avatar/js/30/avatar-min.js&kx/yucs/uh2/mail-link/85/js/mailcount_v2-min.js&kx/ucs/search/js/226/search-min.js&kx/ucs/search/js/210/search_text_dir-min.js&kx/yucs/uh2/uh/295/js/activate_library-min.js&kx/yucs/uhc/meta/66/js/meta-min.js'></script>\n",
      "</div> <!--(end) inc-universal_header.jake -->\n",
      " \n",
      "<!--(begin) inc-mainmenu.jake --><style>\n",
      "#ymvmm .bd li.nav_movieca:hover,#ymvmm .bd li.nav_movieca_on {\n",
      "    background-image:url(https://s.yimg.com/os/publish-images/movies/2014-08-29/e8ecac50-2f63-11e4-b450-51bca89dd413_nav_movieca_on.gif);\n",
      "}\n",
      "#ymvmm .bd li.nav_movieca {\n",
      "    background-image:url(https://s.yimg.com/os/publish-images/movies/2014-08-29/e8e75520-2f63-11e4-aa8b-593645cf069f_nav_movieca.gif);\n",
      "    border-right:solid 1px #0c2a4c;\n",
      "}\n",
      "#ymvmm .bd li.nav_photos:hover,#ymvmm .bd li.nav_photos_on {\n",
      "    background-image:url(https://s.yimg.com/os/publish-images/movies/2014-08-29/e94812c0-2f63-11e4-8c12-4ba3898eacfc_nav_pic_on.gif);\n",
      "}\n",
      "#ymvmm .bd li.nav_photos {\n",
      "    background-image:url(https://s.yimg.com/os/publish-images/movies/2014-08-29/e8ecd360-2f63-11e4-b450-51bca89dd413_nav_pic.gif);\n",
      "    border-right:0;\n",
      "}\n",
      "#ymvmm .bd li.nav_liveshow {\n",
      "    border-right:0;\n",
      "}\n",
      "</style>\n",
      "<div id=\"ymvmm\">\n",
      "    <div class=\"hd\"></div>\n",
      "    <div class=\"bd\">\n",
      "        <div>\n",
      "            <ul class=\"clearfix\">\n",
      "<li class=\"nav_home\"><a href=\"https://tw.rd.yahoo.com/referurl/movie/menubar/home/*https://tw.movies.yahoo.com/index.html\" hpp=\"nav-hp\" ><span>電影首頁</span></a></li><li class=\"nav_intheater\"><a href=\"https://tw.rd.yahoo.com/referurl/movie/menubar/thisweek/*https://tw.movies.yahoo.com/movie_thisweek.html\" hpp=\"nav-thisweek\" ><span>本週新片</span></a></li><li class=\"nav_comingsoon\"><a href=\"https://tw.rd.yahoo.com/referurl/movie/menubar/comingsoon/*https://tw.movies.yahoo.com/movie_comingsoon.html\" hpp=\"nav-comingsoon\" ><span>即將上映</span></a></li><li class=\"nav_trailer\"><a href=\"https://tw.rd.yahoo.com/referurl/movie/menubar/trailer/*https://tw.movies.yahoo.com/trailer_index.html\" hpp=\"nav-trailer\" ><span>預告片</span></a></li><li class=\"nav_chart\"><a href=\"https://tw.rd.yahoo.com/referurl/movie/menubar/chart/*https://tw.movies.yahoo.com/chart.html\" hpp=\"nav-chart\" ><span>排行榜</span></a></li><li class=\"nav_info\"><a href=\"https://tw.rd.yahoo.com/referurl/movie/menubar/article/*https://tw.movies.yahoo.com/article_index.html\" hpp=\"nav-article\" ><span>情報站</span></a></li><li class=\"nav_tv\"><a href=\"https://tw.rd.yahoo.com/referurl/movie/menubar/tv/*https://tw.movies.yahoo.com/tv_index.html\" hpp=\"nav-tv\" ><span>電視時刻</span></a></li><li class=\"nav_photos\"><a href=\"https://tw.rd.yahoo.com/referurl/movie/menubar/photos/*https://tw.campaign.yahoo.com/movies/photos/\" hpp=\"nav_photos\" ><span>精彩圖片</span></a></li><li class=\"nav_movieca\"><a href=\"https://tw.rd.yahoo.com/referurl/movie/menubar/tumblr/*http://tw.rd.yahoo.com/sig/SIG=113t76t1r/*http%3A//yahootwmovie.tumblr.com/\" hpp=\"nav_movieca\" target=\"_blank\"><span>電影咖</span></a></li></ul>\n",
      "        </div>\n",
      "    </div>\n",
      "    <div class=\"ft\"></div>\n",
      "</div>\n",
      "<!--(end) inc-mainmenu.jake -->\n",
      "<!--(begin) inc-schbar_time.jake -->\n",
      " <div id=\"ymvst\">\n",
      " <div class=\"bd clearfix\">\n",
      " <div class=\"clearfix\">\n",
      " <form name=\"schbar\" method=\"get\" hpp=\"nav-movietime\">\n",
      " <select>\n",
      " <option value=\"movie\"  selected=\"true\">電影時刻</option> <option value=\"tv\" >電視時刻</option> </select>\n",
      " <select name=\"id\" class=\"auto\">\n",
      " <option value=\"\">選擇片名</option>\n",
      " <option value='6240'>第十屆台灣國際紀錄片影展</option><option value='6249'>愛，囚禁</option><option value='6192'>最後一堂課</option><option value='6246'>輝煌年代</option><option value='6198'>我的長崎母親</option><option value='6220'>傻瓜向錢衝</option><option value='6200'>幸福百分百</option><option value='6226'>火星異種</option><option value='6136'>惡鄰纏身2</option><option value='6167'>夢遊亞馬遜</option><option value='6244'>那些年狂熱戀情</option><option value='6236'>愛重逢以後</option><option value='6239'>計程人生</option><option value='6251'>快樂告別的方法</option><option value='6176'>反擊</option><option value='6064'>美國隊長3：英雄內戰</option><option value='6227'>大犯罪家</option><option value='6196'>媽媽的味噌湯</option><option value='6235'>盜愛之家</option><option value='6242'>華麗之墓</option><option value='6219'>格雷的五十道黑影</option><option value='6188'>為什麼貓都叫不來</option><option value='6180'>摩天樓</option><option value='6209'>非死不可</option><option value='6208'>尋秘街拍客</option><option value='6225'>死期大公開</option><option value='6202'>失控謊言</option><option value='6211'>換腦行動</option><option value='6126'>與森林共舞</option><option value='6030'>性本愛</option><option value='6201'>《新天堂樂園》25週年數位修復版</option><option value='6140'>吸特樂回來了！</option><option value='6143'>飛躍奇蹟</option><option value='6051'>狩獵者：凜冬之戰</option><option value='6190'>路邊野餐</option><option value='5847'>功夫熊貓3</option><option value='5749'>蝙蝠俠對超人：正義曙光</option><option value='6115'>五星級魚干女</option><option value='6145'>單身動物園</option><option value='6151'>錦衣衛─繡春刀</option><option value='6135'>真愛吵烏龍</option><option value='6119'>震盪效應</option><option value='6085'>鬼門開</option><option value='6091'>動物方城市</option><option value='6011'>驚爆焦點</option><option value='6104'>西遊記之孫悟空三打白骨精</option><option value='5934'>丹麥女孩</option><option value='5904'>惡棍英雄：死侍</option><option value='6099'>單身啪啪啪</option><option value='6086'>神廚</option><option value='6007'>恐龍當家</option><option value='6058'>大尾鱸鰻2</option><option value='6036'>13小時：班加西的秘密士兵</option><option value='5857'>史帝夫賈伯斯</option><option value='6062'>第5毀滅</option><option value='5985'>大賣空</option><option value='5888'>神鬼獵人</option><option value='5999'>翻轉幸福</option><option value='5802'>青田街一號</option><option value='5851'>太平輪：驚濤摯愛</option><option value='5783'>進擊的巨人</option><option value='5644'>驚奇4超人</option><option value='5804'>驚世劫作</option><option value='5515'>小小兵</option><option value='5564'>魔鬼終結者：創世契機</option><option value='5645'>熊麻吉2</option><option value='5526'>侏羅紀世界</option><option value='5262'>逐夢上學路</option><option value='4887'>一首搖滾上月球</option><option value='3026'>錢不夠用2</option>\n",
      " </select>\n",
      " <select name=\"area\" class=\"af_auto\">\n",
      " <option>選擇地區</option>\n",
      " </select> <input type=\"submit\" value=\"查 詢\" class=\"button\" />\n",
      " </form>\n",
      " <div class=\"schbar_mv clearfix\"> <a href=\"https://tw.rd.yahoo.com/referurl/movie/hp/theaterlist/*https://tw.movies.yahoo.com/theater_list.html\" class=\"overview\" hpp=\"nav-theater-list\">戲院總覽</a> <form method=\"get\" action=\"/moviesearch_result.html\" hpp=\"nav-movie-search\">\n",
      " <label>電影查詢：</label>\n",
      " <input type=\"text\" class=\"text\" id=\"qmv\" name=\"qmv\" value=\"\"/> <input type=\"submit\" value=\"查 詢\" class=\"button\" />\n",
      " </form>\n",
      " <div class=\"hot\">\n",
      " <span>熱門：</span>\n",
      "<span><a href='https://tw.rd.yahoo.com//referurl/movie/hp/hotwords/text1/*https://tw.movies.yahoo.com/movieinfo_main.html/id=6041'>強尼戴普</a></span><span><a href='https://tw.rd.yahoo.com//referurl/movie/hp/hotwords/text2/*https://tw.movies.yahoo.com/movieinfo_main.html/id=6241'>林心如</a></span><span><a href='https://tw.rd.yahoo.com//referurl/movie/hp/hotwords/text3/*https://tw.movies.yahoo.com/movieinfo_main.html/id=6064'>美國隊長3</a></span> </div>\n",
      " </div>\n",
      " <div class=\"schbar_tv clearfix\" style=\"display:none\"> <a href=\"?\" class=\"overview\"></a>\n",
      " <form method=\"get\" action=\"/tvtime_result.html\" hpp=\"nav-tvtime\">\n",
      " <label>電視節目查詢：</label>\n",
      " <input type=\"text\" class=\"text\" id=\"qtv\" name=\"qtv\" value=\"\"/> <input type=\"submit\" value=\"查 詢\" class=\"button\" />\n",
      " </form>\n",
      " <div class=\"hot\"><span>(可以查詢5天內資料)</span></div>\n",
      " </div>\n",
      " </div>\n",
      " </div>\n",
      " <div class=\"ft\">\n",
      " <div><!--footer--></div>\n",
      " </div>\n",
      "</div>\n",
      "<script type=\"text/javascript\">YTWMV.Module.SchBarTime(document.getElementById('ymvst'));</script><!--(end) inc-schbar_time.jake -->\n",
      " \n",
      "<!--(begin) inc-toolbar_back.jake -->\n",
      "<div id=\"ymvptb\">\n",
      " <div class=\"bd\">\n",
      " <form class=\"text\" disabled>此為預覽列印模式，可選擇列印本頁或前畫面</form>\n",
      " <span class=\"link\">\n",
      " <a class=\"print\" href=\"#\" onclick=\"self.print();return false;\"><img src=\"https://s.yimg.com/f/i/tw/movie/i6/button_ptprint.gif\"></a>&nbsp;&nbsp;<a class=\"back\" href=\"#\" onclick=\"location.reload();return false;\"><img src=\"https://s.yimg.com/f/i/tw/movie/i6/button_ptback.gif\"></a>\n",
      " </span>\n",
      " </div>\n",
      "</div>\n",
      "<!--(end) inc-toolbar_back.jake -->\n",
      " </div>\n",
      " <div id=\"bd\">\n",
      " <div id=\"yui-main\">\n",
      " <div class=\"yui-b\">\n",
      "<!--(begin) inc-movieinfo_tab.jake -->\n",
      "<div id=\"ymvmvt\" class=\"ymvmodule\">\n",
      " <div class=\"bd tab\">\n",
      " <div class=\"bd-container\">\n",
      " <ul class=\"clearfix\">\n",
      " <li class=\"on\">\n",
      " <q class=\"cl\"></q><q class=\"cr\"></q>\n",
      " <q class=\"pipe\"></q>\n",
      " <q class=\"pointer\"><img src=\"https://s.yimg.com/f/i/tw/movie/i6/tab_pointer.gif\" /></q>\n",
      " <span>電影介紹</span>\n",
      " </li> <li>\n",
      " <q class=\"cl\"></q><q class=\"cr\"></q>\n",
      " <q class=\"pipe\"></q>\n",
      " <q class=\"pointer\"><img src=\"https://s.yimg.com/f/i/tw/movie/i6/tab_pointer.gif\" /></q>\n",
      " <span><a href='/movieinfo_cast.html/id=6192' hpp='movieinfo-nav-cast'>演員卡司</a></span>\n",
      " </li> <li>\n",
      " <q class=\"cl\"></q><q class=\"cr\"></q>\n",
      " <q class=\"pipe\"></q>\n",
      " <q class=\"pointer\"><img src=\"https://s.yimg.com/f/i/tw/movie/i6/tab_pointer.gif\" /></q>\n",
      " <span><a href='/video/最後-堂課-中文預告-144847919.html' hpp='movieinfo-nav-trailer'>預告片</a></span>\n",
      " </li> <li>\n",
      " <q class=\"cl\"></q><q class=\"cr\"></q>\n",
      " <q class=\"pipe\"></q>\n",
      " <q class=\"pointer\"><img src=\"https://s.yimg.com/f/i/tw/movie/i6/tab_pointer.gif\" /></q>\n",
      " <span><a href='/movieinfo_photos.html/id=6192' hpp='movieinfo-nav-photo'>劇照</a></span>\n",
      " </li> <li class='last'>\n",
      " <q class=\"cl\"></q><q class=\"cr\"></q>\n",
      " <q class=\"pipe\"></q>\n",
      " <q class=\"pointer\"><img src=\"https://s.yimg.com/f/i/tw/movie/i6/tab_pointer.gif\" /></q>\n",
      " <span><a href='/movieinfo_review.html/id=6192' hpp='movieinfo-nav-review'>網友短評</a></span>\n",
      " </li> </ul>\n",
      " </div>\n",
      " </div>\n",
      "</div>\n",
      "\n",
      "<!--(end) inc-movieinfo_tab.jake -->\n",
      " \n",
      "<!--(begin) inc-path_back.jake -->\n",
      " <div id=\"ymvpb\">\n",
      " <div class=\"bd\">\n",
      " <div>\n",
      " <span><a href='movie_home.html'>電影首頁</a> > </span> <span>電影介紹</span> </div>\n",
      " </div>\n",
      "</div>\n",
      "<!--(end) inc-path_back.jake -->\n",
      " \n",
      "<!--(begin) inc-pagetools_fb.jake -->\n",
      "<div id=\"fb-root\"></div>\n",
      "<script>(function(d, s, id) {\n",
      " var js, fjs = d.getElementsByTagName(s)[0];\n",
      " if (d.getElementById(id)) return;\n",
      " js = d.createElement(s); js.id = id;\n",
      " js.src = \"//connect.facebook.net/zh_TW/sdk.js#xfbml=1&appId=501887343352051&version=v2.5\";\n",
      " fjs.parentNode.insertBefore(js, fjs);\n",
      "}(document, 'script', 'facebook-jssdk'));</script>\n",
      "<div class=\"fb-like\" data-href=\"https://tw.movies.yahoo.com/movieinfo_main.html/id=6192\" data-layout=\"button_count\" data-action=\"like\" data-show-faces=\"true\" data-share=\"true\" style=\"margin:5px 10px;\"></div><!--(end) inc-pagetools_fb.jake -->\n",
      "<!--(begin) inc-mvinfo_full.jake -->\n",
      "<div id=\"ymvmvf\" class=\"ymvmodule\">\n",
      " <div class=\"bd\">\n",
      " <div class=\"bd-container\">\n",
      " <div class=\"item clearfix\">\n",
      " <div class=\"img\">\n",
      " <div class=\"border\"><a href=\"https://tw.rd.yahoo.com/referurl/movie/movieinfo/bigposter/*https://s.yimg.com/vu/movies/fp/mpost/61/92/6192.jpg\" target=\"_poster\"><img src=\"https://s.yimg.com/vu/movies/fp/mpost2/61/92/6192.jpg\" title=\"最後一堂課\" /></a></div>\n",
      " <div class=\"ourter\"><a class=\"enlarge\" href=\"https://tw.rd.yahoo.com/referurl/movie/movieinfo/bigposter/*https://s.yimg.com/vu/movies/fp/mpost/61/92/6192.jpg\" target=\"_poster\">放大圖片</a></div>\n",
      " </div>\n",
      " <div class=\"text bulletin\">\n",
      " <img class=\"gate\" src=\"https://s.yimg.com/ji/movies/class/1.gif\">\n",
      " <h4>最後一堂課</h4>\n",
      " <h5>The Final Lesson</h5>\n",
      " <p><span class=\"tit\">上映日期：</span><span class=\"dta\">2016-05-06</span></p>\n",
      " <p><span class=\"tit\">類　　型：</span><span class=\"dta\"><a href='https://tw.rd.yahoo.com/referurl/movie/movieinfo/genre/*https://tw.movies.yahoo.com/moviegenre_result.html?id=11'>溫馨/家庭</a></span></p>\n",
      " <p><span class=\"tit\">片　　長：</span><span class=\"dta\">1時46分</span></p>\n",
      " <p><span class=\"tit\">導　　演：</span><span class=\"dta\"><a href='/artist_filmography.html?name=芭絲卡．布莎杜（Pascale Pouzadoux）'>芭絲卡．布莎杜（Pascale Pouzadoux）</a></span></p>\n",
      " <p><span class=\"tit\">演　　員：</span><span class=\"dta\"><a href='/artist_filmography.html?name=桑德琳．波奈兒（Sandrine Bonnaire）'瑪蒂．薇拉隆加（Marthe Villalonga）'安端．杜萊西（Antoine Duléry）'>桑德琳．波奈兒（Sandrine Bonnaire）'瑪蒂．薇拉隆加（Marthe Villalonga）'安端．杜萊西（Antoine Duléry）</a></span></p>\n",
      " <p><span class=\"tit\">發行公司：</span><span class=\"dta\">天馬行空</span></p>\n",
      " <p><span class=\"tit\">官方網站：</span><span class=\"dta\"><a href='http://www.facebook.com/skydigi' class='breakfix' target='_blank'>http://www.facebook.com/skydigi</a></br><a href='http://www.skydigient.com' class='breakfix' target='_blank'>http://www.skydigient.com</a></span></p>\n",
      " </div>\n",
      " <form method=\"post\">\n",
      " <div class=\"text clearfix\"> <div class=\"clearfix\">\n",
      " <ul class=\"links\"> <li class=\"trailer\"><a href=\"https://tw.rd.yahoo.com//referurl/movie/movieinfo/trailer/*https://tw.movies.yahoo.com/video/最後-堂課-中文預告-144847919.html\" hpp='movieinfo-trailer-icon'>預告片</a></li> <li class=\"time\"><a href=\"https://tw.rd.yahoo.com//referurl/movie/movieinfo/movietime/*https://tw.movies.yahoo.com/movietime_result.html?id=6192\" hpp='movieinfo-movietime-icon'>時刻表</a></li> </ul>\n",
      " </div> </div>\n",
      " </form>\n",
      " </div>\n",
      " </div>\n",
      " </div>\n",
      " <div class=\"ft\"><div></div></div>\n",
      " <div class=\"gap\"></div>\n",
      " <div class=\"rating\">\n",
      " <div class=\"head gradient\">\n",
      " <div><h3>為本片評分</h3></div>\n",
      " <span><a href=\"/movieinfo_review.html/id=6192\" hpp='movieinfo-review-icon'>看網友短評</a></span>\n",
      " </div>\n",
      " <div class=\"body\">\n",
      " <div class=\"item clearfix\"><!--(begin) inc-movieinfo_exp.jake -->\n",
      "<script type='text/javascript'>var mobile_auth_url='https://tw.yts.billing.yahoo.com/mobile_auth/auth/mobile_show?done=http%3A%2F%2Ftw.movies.yahoo.com%2Fmovieinfo_main.html%2Fid%3D6192&py=MOVIE&t=MTQ2MjUxODk0MQ--&s_sign=LR8xmxlZvixFfJYcbiTcYkOnrfA-&_crumb='</script><div id=\"ymvie\" class=\"clearfix\">\n",
      " <div class=\"hd\"><div></div></div>\n",
      " <div class=\"bd clearfix\">\n",
      "<form><h4>期待度</h4><p>電影已上映，不開放投票</p></form>\n",
      " <div class=\"vote clearfix\">\n",
      " <p><del><ins style='width:86%'></ins></del></p><em><strong>86%</strong>想看</em><span>(共<q>36</q>人投票)</span>\n",
      " </div>\n",
      " </div>\n",
      " <div class=\"ft\"><div></div></div>\n",
      "</div><!--(end) inc-movieinfo_exp.jake -->\n",
      "<!--(begin) inc-movieinfo_sat.jake -->\n",
      "<script type='text/javascript'>var mobile_auth_url='https://tw.yts.billing.yahoo.com/mobile_auth/auth/mobile_show?done=http%3A%2F%2Ftw.movies.yahoo.com%2Fmovieinfo_main.html%2Fid%3D6192&py=MOVIE&t=MTQ2MjUxODk0MQ--&s_sign=LR8xmxlZvixFfJYcbiTcYkOnrfA-&_crumb='</script><div id=\"ymvis\" class=\"clearfix satrating\">\n",
      " <div class=\"hd\"><div></div></div>\n",
      " <div class=\"bd clearfix rank-list\">\n",
      "<form>\n",
      "<h4>滿意度</h4>\n",
      "<div class=\"clearfix\"><span>請給分</span>:\n",
      "<p class=\"\">\n",
      "<a class=\"star1\" href=\"#\" title=\"1\"></a>\n",
      "<a class=\"star2\" href=\"#\" title=\"2\"></a>\n",
      "<a class=\"star3\" href=\"#\" title=\"3\"></a>\n",
      "<a class=\"star4\" href=\"#\" title=\"4\"></a>\n",
      "<a class=\"star5\" href=\"#\" title=\"5\"></a>\n",
      "</p>\n",
      "<input type=\"button\" name=\"\" value=\"\" title=\"\" onclick=\"window.location='https://login.yahoo.com/config/login?.intl=tw&.done=https%3A%2F%2Ftw.movies.yahoo.com%2Fmovieinfo_main.html%2Fid%3D6192'\" hpp='movieinfo-rate-sat'>\n",
      "</div>\n",
      "</form>\n",
      " <div class=\"sum\"><p>總評分:<em>3.0</em> <ins class=\"level1_half\"><img src=\"https://s.yimg.com/f/i/tw/movie/i6/rating_star_3.gif\" /></ins><span>(共<q>1</q>人評分)</span></p></div>\n",
      " </div>\n",
      " <div class=\"ft\"><div></div></div>\n",
      "</div><!--(end) inc-movieinfo_sat.jake -->\n",
      " </div>\n",
      " </div>\n",
      " </div>\n",
      "</div><!--(end) inc-mvinfo_full.jake -->\n",
      "<!--(begin) inc-ticketing.jake -->\n",
      "<iframe class=\"ticketing\" src=\"https://www.ezding.com.tw/pages/iframe/iframe4yahoo.html\" allowtransparency=\"TRUE\" marginwidth=\"0\" marginheight=\"0\" frameborder=\"0\" height=\"88\" scrolling=\"NO\" width=\"640\"></iframe><!--(end) inc-ticketing.jake -->\n",
      "<!--(begin) inc-vlist_pic.jake -->\n",
      "<div id=\"ymvprve\" class=\"ymvmodule trl-com\">\n",
      " <div class=\"hd gradient\">\n",
      " <div><h3>預告片</h3></div>\n",
      " </div>\n",
      " <div class=\"bd vlist\">\n",
      " <div class=\"bd-container\">\n",
      " <div class=\"info clearfix\">\n",
      " <div class=\"statistic\">共<em id=\"plbsum1\"></em>支，目前顯示<em id=\"plbidx1\">1</em>支</div>\n",
      " <input type=\"hidden\" id=\"plbsize1\" value=\"1\">\n",
      " <input type=\"hidden\" id=\"plblong1\" value=\"137\">\n",
      " </div>\n",
      " <div class=\"row_last\">\n",
      " <div class=\"panel\">\n",
      " <div id='info'>\n",
      " <a href='#' id='move-left1' class=\"move\"></a>\n",
      " <div class='list'>\n",
      " <ul id='albumlist' class=\"clearfix\">\n",
      " <li>\n",
      " <a href=\"/video/最後-堂課-中文預告-144847919.html\" class=\"ymvvdo\" hpp='movieinfo-module-trailer'><img src=\"https://s.yimg.com/lo/api/res/1.2/4mzRwuGeDO7xoGYXX2VdMA--~A/YXBwaWQ9eXR3bW92aWViYWNrZW5kO2ZpPWZpbGw7aD03MDt3PTEwMA--/http://media.zenfs.com/en-US/video/video.pd2upload.com/video.asiamedia.com@647cc6c6-cb8e-3b52-bc29-0c92bbcb5e9c_FULL.jpg\" /><span class=\"play\"></span></a>\n",
      " <h5><a href=\"/video/最後-堂課-中文預告-144847919.html\" hpp='movieinfo-module-trailer'>最後一堂課 - 中文預告</a></h5>\n",
      " <!--p>瀏覽人數:<em>1,445,787</em></p-->\n",
      " <p>更新日期:<em>2016-03-11</em></p>\n",
      " </li>\n",
      "\n",
      " </ul>\n",
      " </div>\n",
      " <a href='#' id='move-right1' class=\"move\"></a>\n",
      " </div>\n",
      " </div>\n",
      " </div>\n",
      " </div>\n",
      " </div>\n",
      " <div class=\"ft\">\n",
      " <div><ins><a href=\"/video/最後-堂課-中文預告-144847919.html\" hpp='movieinfo-nav-trailer'>更多預告片</a></ins></div>\n",
      " </div>\n",
      "</div>\n",
      "<!--(end) inc-vlist_pic.jake -->\n",
      "<!--(begin) inc-plist_brief.jake -->\n",
      "<div id=\"ymvplb\" class=\"ymvmodule\">\n",
      " <div class=\"hd gradient\">\n",
      " <div><h3>精采劇照</h3></div>\n",
      " </div>\n",
      " <div class=\"bd vlist\">\n",
      " <div class=\"bd-container\">\n",
      " <div class=\"info clearfix\">\n",
      " <div class=\"statistic\">共<em id=\"plbsum\">7</em>張，目前顯示<em id=\"plbidx\">1-4</em>張</div>\n",
      " <input type=\"hidden\" id=\"plbsize\" value=\"4\">\n",
      " <input type=\"hidden\" id=\"plblong\" value=\"140\">\n",
      " </div>\n",
      " <div class=\"row_last\">\n",
      " <div class=\"panel\">\n",
      " <div id='info'>\n",
      " <a href='#' id='move-left'></a>\n",
      " <div class='list'>\n",
      " <ul id='albums'> <li><a href=\"/photoplayer.html?id=6192&type=movie&play=67995\" class=\"ymvvdo\" target='_photoplayer' hpp='movieinfo-module-photo'><img src=\"https://s.yimg.com/vu/movies/fp/mpho4/79/95/67995.jpg\" /></a><div class=\"new\"><img src=\"https://s.yimg.com/f/i/tw/movie/i6/icon_new.gif\"/></div> <li><a href=\"/photoplayer.html?id=6192&type=movie&play=67994\" class=\"ymvvdo\" target='_photoplayer' hpp='movieinfo-module-photo'><img src=\"https://s.yimg.com/vu/movies/fp/mpho4/79/94/67994.jpg\" /></a><div class=\"new\"><img src=\"https://s.yimg.com/f/i/tw/movie/i6/icon_new.gif\"/></div> <li><a href=\"/photoplayer.html?id=6192&type=movie&play=67993\" class=\"ymvvdo\" target='_photoplayer' hpp='movieinfo-module-photo'><img src=\"https://s.yimg.com/vu/movies/fp/mpho4/79/93/67993.jpg\" /></a><div class=\"new\"><img src=\"https://s.yimg.com/f/i/tw/movie/i6/icon_new.gif\"/></div> <li><a href=\"/photoplayer.html?id=6192&type=movie&play=67992\" class=\"ymvvdo\" target='_photoplayer' hpp='movieinfo-module-photo'><img src=\"https://s.yimg.com/vu/movies/fp/mpho4/79/92/67992.jpg\" /></a><div class=\"new\"><img src=\"https://s.yimg.com/f/i/tw/movie/i6/icon_new.gif\"/></div> <li><a href=\"/photoplayer.html?id=6192&type=movie&play=67991\" class=\"ymvvdo\" target='_photoplayer' hpp='movieinfo-module-photo'><img src=\"https://s.yimg.com/vu/movies/fp/mpho4/79/91/67991.jpg\" /></a><div class=\"new\"><img src=\"https://s.yimg.com/f/i/tw/movie/i6/icon_new.gif\"/></div> <li><a href=\"/photoplayer.html?id=6192&type=movie&play=68940\" class=\"ymvvdo\" target='_photoplayer' hpp='movieinfo-module-photo'><img src=\"https://s.yimg.com/vu/movies/fp/mpho4/89/40/68940.jpg\" /></a><div class=\"new\"><img src=\"https://s.yimg.com/f/i/tw/movie/i6/icon_new.gif\"/></div> <li><a href=\"/photoplayer.html?id=6192&type=movie&play=68941\" class=\"ymvvdo\" target='_photoplayer' hpp='movieinfo-module-photo'><img src=\"https://s.yimg.com/vu/movies/fp/mpho4/89/41/68941.jpg\" /></a><div class=\"new\"><img src=\"https://s.yimg.com/f/i/tw/movie/i6/icon_new.gif\"/></div> </ul>\n",
      " </div>\n",
      " <a href='#' id='move-right'></a>\n",
      " </div>\n",
      " </div>\n",
      " </div>\n",
      " </div>\n",
      " </div>\n",
      " <div class=\"ft\">\n",
      " <div>\n",
      " <ins class=\"play\"><a href=\"/photoplayer.html?id=6192&type=movie&play=68941\" class=\"ymvvdo\" target=\"_photoplayer\">播放劇照</a></ins><ins><a href=\"/movieinfo_photos.html/id=6192\" hpp='movieinfo-nav-photo'>更多劇照</a></ins> </div>\n",
      " </div>\n",
      "</div><!--(end) inc-plist_brief.jake -->\n",
      " \n",
      "<!--(begin) inc-story.jake -->\n",
      "<div id=\"ymvs\" class=\"ymvmodule\">\n",
      " <div class=\"hd gradient\">\n",
      " <div><h3>劇情簡介</h3></div>\n",
      " </div>\n",
      " <div class=\"bd\">\n",
      " <div class=\"bd-container\">\n",
      " <div class=\"item clearfix\">\n",
      "<div class=\"text full\"><p>這是最後的一個禮物，一份永不止息的愛……<br /><br />一向樂觀的瑪德蓮（瑪蒂．薇拉隆加 飾）在92歲的生日宴會上宣佈，已經決定好自己的『大限之日』，因為身體及所有器官逐漸衰老，哪怕只是一件冬衣外套的重量，年邁的她也無法承受。她希望自己能選擇生命善終、有尊嚴地死去，並期望家人們可以做好沒有她的心理準備，所有的家人都無法接受這個晴天霹靂的決定，家族聚會不歡而散。年輕時的瑪德蓮是一名社運份子，也是女權運動的支持者，她希望女兒黛安（桑德琳．波奈兒 飾）以及其他子女們能陪她走過人生道路的最後一段，讓他們都能明白，自己直到死前都對生命懷抱著熱情、智慧與尊嚴，這是她給子女們上的最後一堂課。<br /><br />本片改編自雄踞法國暢銷書排行榜的書籍《那就10月17日吧！》，2002年，當時已經92歲的蜜海兒．不僅是法國前總理的李歐奈爾．喬斯潘的母親，同時她也是爭取死亡尊嚴權利協會（簡稱ADMD）的成員，她的案例在當時轟動法國社會，她的女兒諾愛拉．夏特雷將這段陪伴母親的經歷寫成自傳並出版，感動千萬人。美國在1990年通過「病人自主法」(Patient Self-Determination Act)，台灣立法院則在去年三讀通過病人自主權利法，五種類型病人可透過預立的醫療決定，決定自己在特定醫療情境下是否接受治療。台灣在1993年正式進入「高齡化社會」，生命善終的議題將是台灣急需討論的重要課題。<p><span class=\"date\">更新日期：2016-05-04</span></p></p></div><div class=\"text\"><p>這是最後的一個禮物，一份永不止息的愛…… 一向樂觀的瑪德蓮（瑪蒂．薇拉隆加 飾）在92歲的生日宴會上宣佈，已經決定好自己的『大限之日』，因為身體及所有器官逐漸衰老，哪怕只是一件冬衣外套的重量，年邁的她也無法承受。她希望自己能選擇生命善終、有尊嚴地死去，並期望家人們可以做好沒有她的心理準備，所有的家人都無法接受這<ins>...<a href=\"javascript:{};\" hpp=\"thisweek-guide\">詳全文</a></ins><div class=\"ext\"><a href=\"javascript:{};\">展開劇情簡介</a></div></p></div> </div>\n",
      " </div>\n",
      " </div>\n",
      " <div class=\"ft\">\n",
      " <div><!--footer--></div>\n",
      " </div>\n",
      "</div>\n",
      "<!--(end) inc-story.jake -->\n",
      "<!--(begin) inc-related.jake -->\n",
      "<div id=\"ymvr\" class=\"ymvmodule\">\n",
      " <div class=\"bd\">\n",
      " <div class=\"bd-container\">\n",
      " \n",
      "<!--(end) inc-related.jake -->\n",
      " </div>\n",
      " </div>\n",
      " <div class=\"ft\">\n",
      " <div><!--footer--></div>\n",
      " </div>\n",
      "</div>\n",
      " </div>\n",
      " </div>\n",
      " <div id=\"yui-side\" class=\"yui-b\">\n",
      " \n",
      "<!--(begin) inc-ad_lrec.jake -->\n",
      "<div id=\"ymvadl\"><!-- SpaceID=0 robot -->\n",
      "</div><!--(end) inc-ad_lrec.jake -->\n",
      " \n",
      "<!--(begin) inc-ad_tbar.jake -->\n",
      "<div id=\"ymvadr\">\n",
      "\t<div class=\"bd\">\n",
      "\t\t<div>\n",
      "<!-- SpaceID=0 robot -->\n",
      "\t\t</div>\n",
      "\t</div>\n",
      "</div>\n",
      "<!--(end) inc-ad_tbar.jake -->\n",
      "<!--(begin) inc-mlist_recent.jake -->\n",
      "<!--(end) inc-mlist_recent.jake -->\n",
      " </div>\n",
      " </div>\n",
      " <div id=\"ft\">\n",
      " \n",
      "<!--(begin) inc-footer.jake -->\n",
      "\n",
      "<div id=\"yhtw_mastfoot\" class=\"fix950\">\n",
      " <!--<div class=\"mfcp\">雅虎資訊&nbsp;&nbsp;版權所有 &copy; 2016 Yahoo!Taiwan All Rights Reserved.</div>\n",
      "-->\n",
      " <div class=\"mflink\"><a href=\"https://tw.yahoo.com/info/utos.html\">服務條款</a>|<a href=\"https://info.yahoo.com/privacy/tw/yahoo/\">隱私權</a></div>\n",
      "</div><!-- SpaceID=0 robot -->\n",
      "<!--(end) inc-footer.jake -->\n",
      " </div>\n",
      " </div>\n",
      "<!--(begin) inc-after_body.jake -->\n",
      "</body>\n",
      "<script type=\"text/javascript\" src=\"https://s.yimg.com/ji/movies/i6/ymvbottom_min.js\"></script>\n",
      "<!--<script type=\"text/javascript\" src=\"https://s.yimg.com/lh/mbz/loader-min.js\"></script>-->\n",
      "<script type=\"text/javascript\" src=\"https://s.yimg.com/f/i/tw/movie/i6/loader_min.js\"></script>\n",
      "<!-- Begin comScore Tag -->\n",
      "<script>\n",
      " var _comscore = _comscore || [];\n",
      " _comscore.push({\n",
      " c1: \"2\",\n",
      " c2: \"7241469\",\n",
      " c5: \"152965872\",\n",
      " c7: \"https%3A%2F%2Ftw.movies.yahoo.com%2Fmovieinfo_main.html%2Fid%3D6192\"\n",
      " });\n",
      " (function() {\n",
      " var s = document.createElement(\"script\"), el = document.getElementsByTagName(\"script\")[0]; s.async = true;\n",
      " s.src = (document.location.protocol == \"https:\" ? \"https://s.yimg.com/lq\" : \"http://l.yimg.com/d\") + \"/lib/3pm/cs_0.2.js\";\n",
      " el.parentNode.insertBefore(s, el);\n",
      " })();\n",
      "</script>\n",
      "<noscript><img src=\"https://sb.scorecardresearch.com/p?c1=2&c2=7241469&c7=https%3A%2F%2Ftw.movies.yahoo.com%2Fmovieinfo_main.html%2Fid%3D6192&c5=152965872&cv=2.0&cj=1\" width=\"1\" height=\"1\" alt=\"\"/></noscript>\n",
      "<!-- End comScore Tag -->\n",
      "</html><!--(end) inc-after_body.jake -->\n",
      "\n",
      "<!-- fe201.movies.tp2.yahoo.com Fri May  6 15:15:41 CST 2016 -->\n",
      "\n"
     ]
    }
   ],
   "source": [
    "print(res.text)"
   ]
  },
  {
   "cell_type": "markdown",
   "metadata": {},
   "source": [
    "# Framework\n",
    "1.Routes(路由) 2.Templates(範本化) 3. Authentication and Authorization(驗證與授權) 4.Sessions(對話)"
   ]
  },
  {
   "cell_type": "markdown",
   "metadata": {},
   "source": [
    "# Bottle test"
   ]
  },
  {
   "cell_type": "code",
   "execution_count": 16,
   "metadata": {
    "collapsed": false
   },
   "outputs": [
    {
     "name": "stdout",
     "output_type": "stream",
     "text": [
      "It's worked! That almost never happens!\n"
     ]
    }
   ],
   "source": [
    "import requests\n",
    "\n",
    "res = requests.get('http://127.0.0.1:9999/echo/ekman')\n",
    "if res.status_code == 200 and res.text == \"Say hello to my little friend: ekman!\":\n",
    "    print(\"It's worked! That almost never happens!\")\n",
    "else:\n",
    "    print(\"argh, got this:\", res.text)"
   ]
  },
  {
   "cell_type": "markdown",
   "metadata": {},
   "source": [
    "# Web Service and automation"
   ]
  },
  {
   "cell_type": "code",
   "execution_count": 17,
   "metadata": {
    "collapsed": true
   },
   "outputs": [],
   "source": [
    "#Webbrowser module"
   ]
  },
  {
   "cell_type": "code",
   "execution_count": 18,
   "metadata": {
    "collapsed": true
   },
   "outputs": [],
   "source": [
    "import antigravity"
   ]
  },
  {
   "cell_type": "code",
   "execution_count": 19,
   "metadata": {
    "collapsed": false
   },
   "outputs": [
    {
     "data": {
      "text/plain": [
       "True"
      ]
     },
     "execution_count": 19,
     "metadata": {},
     "output_type": "execute_result"
    }
   ],
   "source": [
    "import webbrowser\n",
    "url = 'http://www.python.org/'\n",
    "webbrowser.open(url)"
   ]
  },
  {
   "cell_type": "code",
   "execution_count": 20,
   "metadata": {
    "collapsed": false
   },
   "outputs": [
    {
     "data": {
      "text/plain": [
       "True"
      ]
     },
     "execution_count": 20,
     "metadata": {},
     "output_type": "execute_result"
    }
   ],
   "source": [
    "webbrowser.open_new(url)"
   ]
  },
  {
   "cell_type": "code",
   "execution_count": 22,
   "metadata": {
    "collapsed": false
   },
   "outputs": [
    {
     "data": {
      "text/plain": [
       "True"
      ]
     },
     "execution_count": 22,
     "metadata": {},
     "output_type": "execute_result"
    }
   ],
   "source": [
    "webbrowser.open_new_tab(url)"
   ]
  },
  {
   "cell_type": "code",
   "execution_count": null,
   "metadata": {
    "collapsed": true
   },
   "outputs": [],
   "source": []
  }
 ],
 "metadata": {
  "kernelspec": {
   "display_name": "Python 3",
   "language": "python",
   "name": "python3"
  },
  "language_info": {
   "codemirror_mode": {
    "name": "ipython",
    "version": 3
   },
   "file_extension": ".py",
   "mimetype": "text/x-python",
   "name": "python",
   "nbconvert_exporter": "python",
   "pygments_lexer": "ipython3",
   "version": "3.5.1"
  }
 },
 "nbformat": 4,
 "nbformat_minor": 0
}
