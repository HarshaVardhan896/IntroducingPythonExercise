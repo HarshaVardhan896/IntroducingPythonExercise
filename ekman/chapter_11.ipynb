{
 "cells": [
  {
   "cell_type": "code",
   "execution_count": 1,
   "metadata": {
    "collapsed": true
   },
   "outputs": [],
   "source": [
    "def print_num(x):\n",
    "    for i in range(x):\n",
    "        print(i)\n",
    "        return"
   ]
  },
  {
   "cell_type": "code",
   "execution_count": 2,
   "metadata": {
    "collapsed": false
   },
   "outputs": [
    {
     "name": "stdout",
     "output_type": "stream",
     "text": [
      "0\n"
     ]
    }
   ],
   "source": [
    "print_num(10)"
   ]
  },
  {
   "cell_type": "markdown",
   "metadata": {},
   "source": [
    "# Process"
   ]
  },
  {
   "cell_type": "code",
   "execution_count": 10,
   "metadata": {
    "collapsed": false
   },
   "outputs": [
    {
     "name": "stdout",
     "output_type": "stream",
     "text": [
      "start\n",
      "Washing salad dish\n",
      "Washing bread dish\n",
      "Washing entree dish\n",
      "Washing dessert dish\n",
      "Drying salad dish\n",
      "Drying bread dish\n",
      "Drying entree dish\n",
      "Drying dessert dish\n"
     ]
    }
   ],
   "source": [
    "import multiprocessing as mp\n",
    "from time import sleep\n",
    "def washer(dishes,output):\n",
    "    for dish in dishes:\n",
    "        print(\"Washing\", dish,\"dish\")\n",
    "        output.put(dish)\n",
    "\n",
    "def dryer(input):\n",
    "    print('start')\n",
    "    while True:\n",
    "        sleep(2)\n",
    "        dish = input.get()\n",
    "        print(\"Drying\",dish,\"dish\")\n",
    "        input.task_done()\n",
    "\n",
    "dish_queue = mp.JoinableQueue()\n",
    "dryr_proc = mp.Process(target=dryer,args=(dish_queue,))\n",
    "dryr_proc.daemon = True\n",
    "dryr_proc.start()\n",
    "\n",
    "dishes = ['salad','bread','entree','dessert']\n",
    "washer(dishes, dish_queue)\n",
    "dish_queue.join()"
   ]
  },
  {
   "cell_type": "markdown",
   "metadata": {},
   "source": [
    "# Threading"
   ]
  },
  {
   "cell_type": "code",
   "execution_count": 23,
   "metadata": {
    "collapsed": false
   },
   "outputs": [
    {
     "name": "stdout",
     "output_type": "stream",
     "text": [
      "Thread <_MainThread(MainThread, started 140735132606464)> says: I am the main program.\n",
      "Thread <Thread(Thread-28, started 123145346490368)> says: I'm function 0\n",
      "Thread <Thread(Thread-29, started 123145346490368)> says: I'm function 1\n",
      "Thread <Thread(Thread-30, started 123145346490368)> says: I'm function 2\n",
      "Thread <Thread(Thread-31, started 123145346490368)> says: I'm function 3\n"
     ]
    }
   ],
   "source": [
    "import threading\n",
    "from time import sleep\n",
    "\n",
    "def do_this(what):\n",
    "    whoami(what)\n",
    "\n",
    "def whoami(what):\n",
    "    print('Thread {} says: {}'.format(threading.current_thread(),what))\n",
    "    \n",
    "if __name__ == \"__main__\":\n",
    "    whoami(\"I am the main program.\")\n",
    "    for n in range(4):\n",
    "        p = threading.Thread(target=do_this, args=(\"I'm function %s\" % n,))\n",
    "        p.start()"
   ]
  },
  {
   "cell_type": "code",
   "execution_count": 32,
   "metadata": {
    "collapsed": false
   },
   "outputs": [
    {
     "name": "stdout",
     "output_type": "stream",
     "text": [
      "washing salad\n",
      "washing bread\n",
      "Drying salad\n",
      "washing entree\n",
      "Drying bread\n",
      "washing dessert\n",
      "Drying entree\n",
      "Drying dessert\n"
     ]
    }
   ],
   "source": [
    "# 洗碗盤\n",
    "import threading, queue\n",
    "import time\n",
    "\n",
    "def washer(dishes, dish_queue):\n",
    "    for dish in dishes:\n",
    "        print(\"washing\",dish)\n",
    "        time.sleep(5)\n",
    "        dish_queue.put(dish)\n",
    "\n",
    "def dryer(dish_queue):\n",
    "    while True:\n",
    "        dish = dish_queue.get()\n",
    "        print(\"Drying\",dish)\n",
    "        time.sleep(10)\n",
    "        dish_queue.task_done()\n",
    "\n",
    "dish_queue = queue.Queue()\n",
    "for n in range(2):\n",
    "    dryer_thread = threading.Thread(target=dryer,args=(dish_queue,))\n",
    "    dryer_thread.start()\n",
    "\n",
    "dishes = ['salad','bread','entree','dessert']\n",
    "washer(dishes, dish_queue)\n",
    "dish_queue.join()"
   ]
  },
  {
   "cell_type": "code",
   "execution_count": 21,
   "metadata": {
    "collapsed": false
   },
   "outputs": [
    {
     "name": "stdout",
     "output_type": "stream",
     "text": [
      "Thread <_MainThread(MainThread, started 140735132606464)> says: I am the main program.\n",
      "Thread <Thread(Thread-24, started 123145346490368)> says: I'm function 0\n",
      "Thread <Thread(Thread-25, started 123145346490368)> says: I'm function 1\n",
      "Thread <Thread(Thread-26, started 123145346490368)> says: I'm function 2\n",
      "Thread <Thread(Thread-27, started 123145346490368)> says: I'm function 3\n"
     ]
    }
   ],
   "source": []
  },
  {
   "cell_type": "markdown",
   "metadata": {
    "collapsed": true
   },
   "source": [
    "# Green Threads and gevent"
   ]
  },
  {
   "cell_type": "code",
   "execution_count": 3,
   "metadata": {
    "collapsed": false
   },
   "outputs": [
    {
     "name": "stdout",
     "output_type": "stream",
     "text": [
      "66.6.44.4\n",
      "74.125.203.121\n",
      "141.8.225.252\n"
     ]
    }
   ],
   "source": [
    "import gevent\n",
    "from gevent import socket\n",
    "hosts = ['www.crappytaxidermy.com', 'www.walterpottertaxidermy.com','www.antique-taxidermy.com']\n",
    "jobs = [gevent.spawn(gevent.socket.gethostbyname, host) for host in hosts] \n",
    "gevent.joinall(jobs, timeout=5)\n",
    "for job in jobs:\n",
    "    print(job.value)"
   ]
  },
  {
   "cell_type": "markdown",
   "metadata": {
    "collapsed": true
   },
   "source": [
    "# Internet Service"
   ]
  },
  {
   "cell_type": "markdown",
   "metadata": {},
   "source": [
    "#  Domain Name System"
   ]
  },
  {
   "cell_type": "code",
   "execution_count": 1,
   "metadata": {
    "collapsed": true
   },
   "outputs": [],
   "source": [
    "import socket"
   ]
  },
  {
   "cell_type": "code",
   "execution_count": 2,
   "metadata": {
    "collapsed": false
   },
   "outputs": [
    {
     "data": {
      "text/plain": [
       "'203.69.81.19'"
      ]
     },
     "execution_count": 2,
     "metadata": {},
     "output_type": "execute_result"
    }
   ],
   "source": [
    "socket.gethostbyname('www.nba.com')"
   ]
  },
  {
   "cell_type": "code",
   "execution_count": 3,
   "metadata": {
    "collapsed": false
   },
   "outputs": [
    {
     "data": {
      "text/plain": [
       "('a1570.gd.akamai.net',\n",
       " ['www.nba.com', 'www.nba.com.edgesuite.net'],\n",
       " ['203.69.81.19', '203.69.81.35'])"
      ]
     },
     "execution_count": 3,
     "metadata": {},
     "output_type": "execute_result"
    }
   ],
   "source": [
    "socket.gethostbyname_ex('www.nba.com')"
   ]
  },
  {
   "cell_type": "code",
   "execution_count": 4,
   "metadata": {
    "collapsed": false
   },
   "outputs": [
    {
     "data": {
      "text/plain": [
       "[(<AddressFamily.AF_INET: 2>,\n",
       "  <SocketKind.SOCK_DGRAM: 2>,\n",
       "  17,\n",
       "  '',\n",
       "  ('203.69.81.35', 80)),\n",
       " (<AddressFamily.AF_INET: 2>,\n",
       "  <SocketKind.SOCK_STREAM: 1>,\n",
       "  6,\n",
       "  '',\n",
       "  ('203.69.81.35', 80)),\n",
       " (<AddressFamily.AF_INET: 2>,\n",
       "  <SocketKind.SOCK_DGRAM: 2>,\n",
       "  17,\n",
       "  '',\n",
       "  ('203.69.81.19', 80)),\n",
       " (<AddressFamily.AF_INET: 2>,\n",
       "  <SocketKind.SOCK_STREAM: 1>,\n",
       "  6,\n",
       "  '',\n",
       "  ('203.69.81.19', 80))]"
      ]
     },
     "execution_count": 4,
     "metadata": {},
     "output_type": "execute_result"
    }
   ],
   "source": [
    "socket.getaddrinfo('www.nba.com',80)"
   ]
  },
  {
   "cell_type": "markdown",
   "metadata": {},
   "source": [
    "# python Email module"
   ]
  },
  {
   "cell_type": "code",
   "execution_count": null,
   "metadata": {
    "collapsed": true
   },
   "outputs": [],
   "source": []
  }
 ],
 "metadata": {
  "kernelspec": {
   "display_name": "Python 3",
   "language": "python",
   "name": "python3"
  },
  "language_info": {
   "codemirror_mode": {
    "name": "ipython",
    "version": 3
   },
   "file_extension": ".py",
   "mimetype": "text/x-python",
   "name": "python",
   "nbconvert_exporter": "python",
   "pygments_lexer": "ipython3",
   "version": "3.5.1"
  }
 },
 "nbformat": 4,
 "nbformat_minor": 0
}
